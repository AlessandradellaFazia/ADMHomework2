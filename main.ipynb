{
 "cells": [
  {
   "cell_type": "markdown",
   "metadata": {},
   "source": [
    "# [RQ1] What’s the operation users repeat more on average within a session? \n",
    "##### Produce a plot that shows the average number of times users perform each operation (view/removefromchart etc etc)."
   ]
  },
  {
   "cell_type": "markdown",
   "metadata": {},
   "source": [
    "For this purpose, we display the monthly average and the overall average of the months of October, November, December, January, Febrary, March, April."
   ]
  },
  {
   "cell_type": "code",
   "execution_count": 1,
   "metadata": {},
   "outputs": [],
   "source": [
    "import pandas as pd\n",
    "import seaborn as sns\n",
    "import numpy as np\n",
    "from datetime import timedelta\n",
    "%matplotlib inline\n",
    "import matplotlib.pyplot as plt"
   ]
  },
  {
   "cell_type": "code",
   "execution_count": 2,
   "metadata": {},
   "outputs": [],
   "source": [
    "import seaborn as sns\n",
    "sns.set()"
   ]
  },
  {
   "cell_type": "code",
   "execution_count": 3,
   "metadata": {},
   "outputs": [],
   "source": [
    "#dataset used\n",
    "filenames = ['2019-Oct.csv', '2019-Nov.csv','2019-Dec.csv','2020-Jan.csv','2020-Feb.csv','2020-Mar.csv','2020-Apr.csv']"
   ]
  },
  {
   "cell_type": "code",
   "execution_count": 4,
   "metadata": {},
   "outputs": [],
   "source": [
    "months = ['October', 'November','December','January','Febrary','March','April']\n",
    "cols = ['midnightblue', 'goldenrod','red', 'forestgreen', 'dodgerblue','rebeccapurple','orange']"
   ]
  },
  {
   "cell_type": "code",
   "execution_count": 7,
   "metadata": {},
   "outputs": [],
   "source": [
    "dataframes = [pd.read_csv(file,usecols=[\"event_type\",\"user_id\",\"user_session\"]) for file in filenames]"
   ]
  },
  {
   "cell_type": "markdown",
   "metadata": {},
   "source": [
    "Let's look october and november data as example:"
   ]
  },
  {
   "cell_type": "code",
   "execution_count": 8,
   "metadata": {},
   "outputs": [
    {
     "data": {
      "text/html": [
       "<div>\n",
       "<style scoped>\n",
       "    .dataframe tbody tr th:only-of-type {\n",
       "        vertical-align: middle;\n",
       "    }\n",
       "\n",
       "    .dataframe tbody tr th {\n",
       "        vertical-align: top;\n",
       "    }\n",
       "\n",
       "    .dataframe thead th {\n",
       "        text-align: right;\n",
       "    }\n",
       "</style>\n",
       "<table border=\"1\" class=\"dataframe\">\n",
       "  <thead>\n",
       "    <tr style=\"text-align: right;\">\n",
       "      <th></th>\n",
       "      <th>event_type</th>\n",
       "      <th>user_id</th>\n",
       "      <th>user_session</th>\n",
       "    </tr>\n",
       "  </thead>\n",
       "  <tbody>\n",
       "    <tr>\n",
       "      <th>0</th>\n",
       "      <td>view</td>\n",
       "      <td>541312140</td>\n",
       "      <td>72d76fde-8bb3-4e00-8c23-a032dfed738c</td>\n",
       "    </tr>\n",
       "    <tr>\n",
       "      <th>1</th>\n",
       "      <td>view</td>\n",
       "      <td>554748717</td>\n",
       "      <td>9333dfbd-b87a-4708-9857-6336556b0fcc</td>\n",
       "    </tr>\n",
       "    <tr>\n",
       "      <th>2</th>\n",
       "      <td>view</td>\n",
       "      <td>519107250</td>\n",
       "      <td>566511c2-e2e3-422b-b695-cf8e6e792ca8</td>\n",
       "    </tr>\n",
       "    <tr>\n",
       "      <th>3</th>\n",
       "      <td>view</td>\n",
       "      <td>550050854</td>\n",
       "      <td>7c90fc70-0e80-4590-96f3-13c02c18c713</td>\n",
       "    </tr>\n",
       "    <tr>\n",
       "      <th>4</th>\n",
       "      <td>view</td>\n",
       "      <td>535871217</td>\n",
       "      <td>c6bd7419-2748-4c56-95b4-8cec9ff8b80d</td>\n",
       "    </tr>\n",
       "  </tbody>\n",
       "</table>\n",
       "</div>"
      ],
      "text/plain": [
       "  event_type    user_id                          user_session\n",
       "0       view  541312140  72d76fde-8bb3-4e00-8c23-a032dfed738c\n",
       "1       view  554748717  9333dfbd-b87a-4708-9857-6336556b0fcc\n",
       "2       view  519107250  566511c2-e2e3-422b-b695-cf8e6e792ca8\n",
       "3       view  550050854  7c90fc70-0e80-4590-96f3-13c02c18c713\n",
       "4       view  535871217  c6bd7419-2748-4c56-95b4-8cec9ff8b80d"
      ]
     },
     "execution_count": 8,
     "metadata": {},
     "output_type": "execute_result"
    }
   ],
   "source": [
    "dataframes[0].head()"
   ]
  },
  {
   "cell_type": "code",
   "execution_count": 9,
   "metadata": {},
   "outputs": [
    {
     "data": {
      "text/html": [
       "<div>\n",
       "<style scoped>\n",
       "    .dataframe tbody tr th:only-of-type {\n",
       "        vertical-align: middle;\n",
       "    }\n",
       "\n",
       "    .dataframe tbody tr th {\n",
       "        vertical-align: top;\n",
       "    }\n",
       "\n",
       "    .dataframe thead th {\n",
       "        text-align: right;\n",
       "    }\n",
       "</style>\n",
       "<table border=\"1\" class=\"dataframe\">\n",
       "  <thead>\n",
       "    <tr style=\"text-align: right;\">\n",
       "      <th></th>\n",
       "      <th>event_type</th>\n",
       "      <th>user_id</th>\n",
       "      <th>user_session</th>\n",
       "    </tr>\n",
       "  </thead>\n",
       "  <tbody>\n",
       "    <tr>\n",
       "      <th>0</th>\n",
       "      <td>view</td>\n",
       "      <td>520088904</td>\n",
       "      <td>4d3b30da-a5e4-49df-b1a8-ba5943f1dd33</td>\n",
       "    </tr>\n",
       "    <tr>\n",
       "      <th>1</th>\n",
       "      <td>view</td>\n",
       "      <td>530496790</td>\n",
       "      <td>8e5f4f83-366c-4f70-860e-ca7417414283</td>\n",
       "    </tr>\n",
       "    <tr>\n",
       "      <th>2</th>\n",
       "      <td>view</td>\n",
       "      <td>561587266</td>\n",
       "      <td>755422e7-9040-477b-9bd2-6a6e8fd97387</td>\n",
       "    </tr>\n",
       "    <tr>\n",
       "      <th>3</th>\n",
       "      <td>view</td>\n",
       "      <td>518085591</td>\n",
       "      <td>3bfb58cd-7892-48cc-8020-2f17e6de6e7f</td>\n",
       "    </tr>\n",
       "    <tr>\n",
       "      <th>4</th>\n",
       "      <td>view</td>\n",
       "      <td>558856683</td>\n",
       "      <td>313628f1-68b8-460d-84f6-cec7a8796ef2</td>\n",
       "    </tr>\n",
       "  </tbody>\n",
       "</table>\n",
       "</div>"
      ],
      "text/plain": [
       "  event_type    user_id                          user_session\n",
       "0       view  520088904  4d3b30da-a5e4-49df-b1a8-ba5943f1dd33\n",
       "1       view  530496790  8e5f4f83-366c-4f70-860e-ca7417414283\n",
       "2       view  561587266  755422e7-9040-477b-9bd2-6a6e8fd97387\n",
       "3       view  518085591  3bfb58cd-7892-48cc-8020-2f17e6de6e7f\n",
       "4       view  558856683  313628f1-68b8-460d-84f6-cec7a8796ef2"
      ]
     },
     "execution_count": 9,
     "metadata": {},
     "output_type": "execute_result"
    }
   ],
   "source": [
    "dataframes[1].head()"
   ]
  },
  {
   "cell_type": "code",
   "execution_count": 10,
   "metadata": {},
   "outputs": [],
   "source": [
    "def event_type_into_datasets(dataframes):\n",
    "    #print for each dataset the list of event tipe\n",
    "    for j in range(len(dataframes)):\n",
    "        print(months[j],dataframes[j].event_type.unique())\n",
    "    "
   ]
  },
  {
   "cell_type": "markdown",
   "metadata": {},
   "source": [
    "Let's look what types of events there are in every dataset:"
   ]
  },
  {
   "cell_type": "code",
   "execution_count": 11,
   "metadata": {},
   "outputs": [
    {
     "name": "stdout",
     "output_type": "stream",
     "text": [
      "October ['view' 'purchase' 'cart']\n",
      "November ['view' 'cart' 'purchase']\n",
      "December ['view' 'purchase' 'cart']\n",
      "January ['view' 'cart' 'purchase']\n",
      "Febrary ['view' 'cart' 'purchase']\n",
      "March ['view' 'purchase' 'cart']\n",
      "April ['view' 'cart' 'purchase']\n"
     ]
    }
   ],
   "source": [
    "event_type_into_datasets(dataframes)"
   ]
  },
  {
   "cell_type": "code",
   "execution_count": 12,
   "metadata": {},
   "outputs": [],
   "source": [
    "#counts the number of occurence of each event for each session\n",
    "def count_event_types(dataframes):   \n",
    "    results = [df.groupby(['user_session', 'event_type']).agg(events_count = ('event_type','count')) for df in dataframes]\n",
    "    return results"
   ]
  },
  {
   "cell_type": "markdown",
   "metadata": {},
   "source": [
    "Now, for each session, we see how many times each operation are performed.<br>\n",
    "Below we see a piece of October as example:"
   ]
  },
  {
   "cell_type": "code",
   "execution_count": 13,
   "metadata": {},
   "outputs": [
    {
     "data": {
      "text/html": [
       "<div>\n",
       "<style scoped>\n",
       "    .dataframe tbody tr th:only-of-type {\n",
       "        vertical-align: middle;\n",
       "    }\n",
       "\n",
       "    .dataframe tbody tr th {\n",
       "        vertical-align: top;\n",
       "    }\n",
       "\n",
       "    .dataframe thead th {\n",
       "        text-align: right;\n",
       "    }\n",
       "</style>\n",
       "<table border=\"1\" class=\"dataframe\">\n",
       "  <thead>\n",
       "    <tr style=\"text-align: right;\">\n",
       "      <th></th>\n",
       "      <th></th>\n",
       "      <th>events_count</th>\n",
       "    </tr>\n",
       "    <tr>\n",
       "      <th>user_session</th>\n",
       "      <th>event_type</th>\n",
       "      <th></th>\n",
       "    </tr>\n",
       "  </thead>\n",
       "  <tbody>\n",
       "    <tr>\n",
       "      <th>00000042-3e3f-42f9-810d-f3d264139c50</th>\n",
       "      <th>view</th>\n",
       "      <td>2</td>\n",
       "    </tr>\n",
       "    <tr>\n",
       "      <th>00000056-a206-40dd-b174-a072550fa38c</th>\n",
       "      <th>view</th>\n",
       "      <td>8</td>\n",
       "    </tr>\n",
       "    <tr>\n",
       "      <th rowspan=\"3\" valign=\"top\">00000083-8816-4d58-a9b8-f52f54186edc</th>\n",
       "      <th>cart</th>\n",
       "      <td>1</td>\n",
       "    </tr>\n",
       "    <tr>\n",
       "      <th>purchase</th>\n",
       "      <td>1</td>\n",
       "    </tr>\n",
       "    <tr>\n",
       "      <th>view</th>\n",
       "      <td>16</td>\n",
       "    </tr>\n",
       "  </tbody>\n",
       "</table>\n",
       "</div>"
      ],
      "text/plain": [
       "                                                 events_count\n",
       "user_session                         event_type              \n",
       "00000042-3e3f-42f9-810d-f3d264139c50 view                   2\n",
       "00000056-a206-40dd-b174-a072550fa38c view                   8\n",
       "00000083-8816-4d58-a9b8-f52f54186edc cart                   1\n",
       "                                     purchase               1\n",
       "                                     view                  16"
      ]
     },
     "execution_count": 13,
     "metadata": {},
     "output_type": "execute_result"
    }
   ],
   "source": [
    "counts = count_event_types(dataframes)\n",
    "counts[0].head(5)"
   ]
  },
  {
   "cell_type": "code",
   "execution_count": 14,
   "metadata": {},
   "outputs": [],
   "source": [
    "#overall count\n",
    "all_months = pd.concat(counts)"
   ]
  },
  {
   "cell_type": "code",
   "execution_count": 15,
   "metadata": {},
   "outputs": [],
   "source": [
    "all_months_mean = all_months.groupby('event_type').agg(avg_event_type = ('events_count','mean') )"
   ]
  },
  {
   "cell_type": "code",
   "execution_count": 16,
   "metadata": {},
   "outputs": [],
   "source": [
    "#caluclate the average number of occurence of each event for each session for each month \n",
    "def mean_count_event_types(dataframes):    \n",
    "    counts = count_event_types(dataframes)\n",
    "    mean_counts =[c.groupby('event_type').agg(avg_event_type = ('events_count','mean') ) for c in counts]\n",
    "    return mean_counts"
   ]
  },
  {
   "cell_type": "code",
   "execution_count": 17,
   "metadata": {},
   "outputs": [],
   "source": [
    "mean_counts = mean_count_event_types(dataframes)    "
   ]
  },
  {
   "cell_type": "markdown",
   "metadata": {},
   "source": [
    "Below we see for each month the average times user perform each type of operation."
   ]
  },
  {
   "cell_type": "code",
   "execution_count": 18,
   "metadata": {},
   "outputs": [
    {
     "name": "stdout",
     "output_type": "stream",
     "text": [
      "            avg_event_type\n",
      "event_type                \n",
      "cart              1.616679\n",
      "purchase          1.179949\n",
      "view              4.412088\n",
      "            avg_event_type\n",
      "event_type                \n",
      "cart              1.737422\n",
      "purchase          1.185880\n",
      "view              4.616633\n",
      "            avg_event_type\n",
      "event_type                \n",
      "cart              1.711502\n",
      "purchase          1.197981\n",
      "view              4.043304\n",
      "            avg_event_type\n",
      "event_type                \n",
      "cart              1.711213\n",
      "purchase          1.208526\n",
      "view              3.815562\n",
      "            avg_event_type\n",
      "event_type                \n",
      "cart              1.738196\n",
      "purchase          1.591866\n",
      "view              3.876134\n",
      "            avg_event_type\n",
      "event_type                \n",
      "cart              1.811467\n",
      "purchase          1.207023\n",
      "view              4.150490\n",
      "            avg_event_type\n",
      "event_type                \n",
      "cart              1.789873\n",
      "purchase          1.229963\n",
      "view              5.358778\n"
     ]
    }
   ],
   "source": [
    "for m in mean_counts:\n",
    "    print (m.head())"
   ]
  },
  {
   "cell_type": "code",
   "execution_count": 19,
   "metadata": {},
   "outputs": [],
   "source": [
    "def plot(dataframe):\n",
    "    i = 0\n",
    "    fig=plt.figure(figsize=(18,22))\n",
    "    ax1 = fig.add_subplot(4,2,i+1)\n",
    "    plot=sns.barplot(x=mean_counts[i].index,y='avg_event_type',data=mean_counts[i],ax=ax1,color=cols[i])\n",
    "    plt.ylabel('Average in ' + months[i])\n",
    "    plt.title('Average number of operations in ' + months[i],size = 12)\n",
    "    i = i + 1\n",
    "    ax2 = fig.add_subplot(4,2,i+1)\n",
    "    plot=sns.barplot(x=mean_counts[i].index,y='avg_event_type',data=mean_counts[i],ax=ax2,color=cols[i])\n",
    "    plt.ylabel('Average in ' + months[i])\n",
    "    plt.title('Average number of operations in ' + months[i],size = 12)\n",
    "    i = i + 1\n",
    "    ax3 = fig.add_subplot(4,2,i+1)\n",
    "    plot=sns.barplot(x=mean_counts[i].index,y='avg_event_type',data=mean_counts[i],ax=ax3,color=cols[i])\n",
    "    plt.ylabel('Average in ' + months[i])\n",
    "    plt.title('Average number of operations in ' + months[i],size = 12)\n",
    "    i = i + 1\n",
    "    ax4 = fig.add_subplot(4,2,i+1)\n",
    "    plot=sns.barplot(x=mean_counts[i].index,y='avg_event_type',data=mean_counts[i],ax=ax4,color=cols[i])\n",
    "    plt.ylabel('Average in ' + months[i])\n",
    "    plt.title('Average number of operations in ' + months[i],size = 12)\n",
    "    i = i + 1\n",
    "    ax5 = fig.add_subplot(4,2,i+1)\n",
    "    plot=sns.barplot(x=mean_counts[i].index,y='avg_event_type',data=mean_counts[i],ax=ax5,color=cols[i])\n",
    "    plt.ylabel('Average in ' + months[i])\n",
    "    plt.title('Average number of operations in ' + months[i],size = 12)\n",
    "    i = i + 1\n",
    "    ax6 = fig.add_subplot(4,2,i+1)\n",
    "    plot=sns.barplot(x=mean_counts[i].index,y='avg_event_type',data=mean_counts[i],ax=ax6,color=cols[i])\n",
    "    plt.ylabel('Average in ' + months[i])\n",
    "    plt.title('Average number of operations in ' + months[i],size = 12)\n",
    "    i = i +1 \n",
    "    ax7 = fig.add_subplot(4,2,i+1)\n",
    "    plot=sns.barplot(x=mean_counts[i].index,y='avg_event_type',data=mean_counts[i],ax=ax7,color=cols[i])\n",
    "    plt.ylabel('Average in ' + months[i])\n",
    "    plt.title('Average number of operations in ' + months[i],size = 12)"
   ]
  },
  {
   "cell_type": "code",
   "execution_count": 20,
   "metadata": {},
   "outputs": [],
   "source": [
    "def plot_mean_count_event_types_all_months(all_months_mean):\n",
    "    plt.figure(figsize=(9,6))\n",
    "    plt.bar(x = all_months_mean.index, height= all_months_mean['avg_event_type'],color = 'crimson')        \n",
    "    plt.grid( linestyle='-.', zorder = 0) \n",
    "    plt.title('Average number of times users performs each operation in a session in ' + ', '.join(months), size = 18)\n",
    "    plt.xlabel('Event type',size = 14)\n",
    "    plt.show()"
   ]
  },
  {
   "cell_type": "code",
   "execution_count": 22,
   "metadata": {},
   "outputs": [
    {
     "data": {
      "image/png": "[encoded data removed]",
      "text/plain": [
       "<Figure size 1296x1584 with 7 Axes>"
      ]
     },
     "metadata": {},
     "output_type": "display_data"
    }
   ],
   "source": [
    "plot(mean_counts)"
   ]
  },
  {
   "cell_type": "code",
   "execution_count": 159,
   "metadata": {},
   "outputs": [
    {
     "data": {
      "image/png": "[encoded data removed]",
      "text/plain": [
       "<Figure size 648x432 with 1 Axes>"
      ]
     },
     "metadata": {},
     "output_type": "display_data"
    }
   ],
   "source": [
    "plot_mean_count_event_types_all_months(all_months_mean)"
   ]
  },
  {
   "cell_type": "markdown",
   "metadata": {},
   "source": [
    "# [RQ 1.2] How many times, on average, a user views a product before adding it to the cart?"
   ]
  },
  {
   "cell_type": "markdown",
   "metadata": {},
   "source": [
    "For each user and for each product we count how many **views** there are before a **cart**.<br>\n",
    "Then, we calculate the averange."
   ]
  },
  {
   "cell_type": "code",
   "execution_count": 7,
   "metadata": {},
   "outputs": [],
   "source": [
    "datasets = [pd.read_csv(file, usecols=[\"event_type\",\"user_id\",\"product_id\"])for file in filenames]"
   ]
  },
  {
   "cell_type": "markdown",
   "metadata": {},
   "source": [
    "First of all, we only look at the views and cart event:"
   ]
  },
  {
   "cell_type": "code",
   "execution_count": 8,
   "metadata": {},
   "outputs": [],
   "source": [
    "def only_view_and_cart(datasets):\n",
    "    new_ds = [d[d.event_type.isin(['view','cart'])] for d in datasets]\n",
    "    return new_ds"
   ]
  },
  {
   "cell_type": "code",
   "execution_count": 9,
   "metadata": {},
   "outputs": [],
   "source": [
    "datasets = only_view_and_cart(datasets)"
   ]
  },
  {
   "cell_type": "markdown",
   "metadata": {},
   "source": [
    "We only take the user-product pairs whose user actually adds the product to the cart after seeing it."
   ]
  },
  {
   "cell_type": "code",
   "execution_count": 10,
   "metadata": {},
   "outputs": [],
   "source": [
    "#take only the user-product pairs where product are added to the cart by the user\n",
    "def only_cart_user_prod(datasets):\n",
    "    new_sets = []\n",
    "    for d in datasets:\n",
    "        cart = d[d.event_type=='cart'].drop_duplicates()\n",
    "        cart = cart.drop('event_type',axis=1)\n",
    "        new_d = pd.merge(d,cart,how='left', on = [\"user_id\",\"product_id\"])\n",
    "        new_sets.append(new_d)\n",
    "    return new_sets"
   ]
  },
  {
   "cell_type": "code",
   "execution_count": 11,
   "metadata": {},
   "outputs": [
    {
     "data": {
      "text/html": [
       "<div>\n",
       "<style scoped>\n",
       "    .dataframe tbody tr th:only-of-type {\n",
       "        vertical-align: middle;\n",
       "    }\n",
       "\n",
       "    .dataframe tbody tr th {\n",
       "        vertical-align: top;\n",
       "    }\n",
       "\n",
       "    .dataframe thead th {\n",
       "        text-align: right;\n",
       "    }\n",
       "</style>\n",
       "<table border=\"1\" class=\"dataframe\">\n",
       "  <thead>\n",
       "    <tr style=\"text-align: right;\">\n",
       "      <th></th>\n",
       "      <th>event_type</th>\n",
       "      <th>product_id</th>\n",
       "      <th>user_id</th>\n",
       "    </tr>\n",
       "  </thead>\n",
       "  <tbody>\n",
       "    <tr>\n",
       "      <th>0</th>\n",
       "      <td>view</td>\n",
       "      <td>44600062</td>\n",
       "      <td>541312140</td>\n",
       "    </tr>\n",
       "    <tr>\n",
       "      <th>1</th>\n",
       "      <td>view</td>\n",
       "      <td>3900821</td>\n",
       "      <td>554748717</td>\n",
       "    </tr>\n",
       "    <tr>\n",
       "      <th>2</th>\n",
       "      <td>view</td>\n",
       "      <td>17200506</td>\n",
       "      <td>519107250</td>\n",
       "    </tr>\n",
       "    <tr>\n",
       "      <th>3</th>\n",
       "      <td>view</td>\n",
       "      <td>1307067</td>\n",
       "      <td>550050854</td>\n",
       "    </tr>\n",
       "    <tr>\n",
       "      <th>4</th>\n",
       "      <td>view</td>\n",
       "      <td>1004237</td>\n",
       "      <td>535871217</td>\n",
       "    </tr>\n",
       "  </tbody>\n",
       "</table>\n",
       "</div>"
      ],
      "text/plain": [
       "  event_type  product_id    user_id\n",
       "0       view    44600062  541312140\n",
       "1       view     3900821  554748717\n",
       "2       view    17200506  519107250\n",
       "3       view     1307067  550050854\n",
       "4       view     1004237  535871217"
      ]
     },
     "execution_count": 11,
     "metadata": {},
     "output_type": "execute_result"
    }
   ],
   "source": [
    "datasets = only_cart_user_prod(datasets)\n",
    "datasets[0].head()"
   ]
  },
  {
   "cell_type": "code",
   "execution_count": 12,
   "metadata": {},
   "outputs": [],
   "source": [
    "#compute how many view there are before a cart for each product for each user\n",
    "def views_before_cart(datasets):\n",
    "    views_before_cart_datasets = []\n",
    "    for ds in datasets:\n",
    "        views_before_cart_datasets.append(ds.groupby(['user_id','product_id','event_type'],sort=False)\\\n",
    "        .agg(views_before_cart=('event_type','count'))\\\n",
    "        .groupby(['user_id','product_id']).nth(0) )\n",
    "    return views_before_cart_datasets                                 \n",
    "    "
   ]
  },
  {
   "cell_type": "code",
   "execution_count": 13,
   "metadata": {},
   "outputs": [],
   "source": [
    "views_before_cart = views_before_cart(datasets)"
   ]
  },
  {
   "cell_type": "markdown",
   "metadata": {},
   "source": [
    "Then, we calculate for each user and for each product he added to cart, how many views the user has made before adding it to the cart.<br>\n",
    "let's see what happened for the month of November:"
   ]
  },
  {
   "cell_type": "code",
   "execution_count": 167,
   "metadata": {},
   "outputs": [
    {
     "data": {
      "text/html": [
       "<div>\n",
       "<style scoped>\n",
       "    .dataframe tbody tr th:only-of-type {\n",
       "        vertical-align: middle;\n",
       "    }\n",
       "\n",
       "    .dataframe tbody tr th {\n",
       "        vertical-align: top;\n",
       "    }\n",
       "\n",
       "    .dataframe thead th {\n",
       "        text-align: right;\n",
       "    }\n",
       "</style>\n",
       "<table border=\"1\" class=\"dataframe\">\n",
       "  <thead>\n",
       "    <tr style=\"text-align: right;\">\n",
       "      <th></th>\n",
       "      <th></th>\n",
       "      <th>views_before_cart</th>\n",
       "    </tr>\n",
       "    <tr>\n",
       "      <th>user_id</th>\n",
       "      <th>product_id</th>\n",
       "      <th></th>\n",
       "    </tr>\n",
       "  </thead>\n",
       "  <tbody>\n",
       "    <tr>\n",
       "      <th>422073359</th>\n",
       "      <th>31501013</th>\n",
       "      <td>1</td>\n",
       "    </tr>\n",
       "    <tr>\n",
       "      <th>436701163</th>\n",
       "      <th>1004856</th>\n",
       "      <td>1</td>\n",
       "    </tr>\n",
       "    <tr>\n",
       "      <th>442818338</th>\n",
       "      <th>1004856</th>\n",
       "      <td>1</td>\n",
       "    </tr>\n",
       "    <tr>\n",
       "      <th>450284033</th>\n",
       "      <th>1004766</th>\n",
       "      <td>1</td>\n",
       "    </tr>\n",
       "    <tr>\n",
       "      <th>454621403</th>\n",
       "      <th>1004249</th>\n",
       "      <td>2</td>\n",
       "    </tr>\n",
       "    <tr>\n",
       "      <th>464783634</th>\n",
       "      <th>10301494</th>\n",
       "      <td>1</td>\n",
       "    </tr>\n",
       "    <tr>\n",
       "      <th rowspan=\"3\" valign=\"top\">482114459</th>\n",
       "      <th>3900003</th>\n",
       "      <td>3</td>\n",
       "    </tr>\n",
       "    <tr>\n",
       "      <th>3900815</th>\n",
       "      <td>2</td>\n",
       "    </tr>\n",
       "    <tr>\n",
       "      <th>3900934</th>\n",
       "      <td>1</td>\n",
       "    </tr>\n",
       "    <tr>\n",
       "      <th>482871459</th>\n",
       "      <th>12710875</th>\n",
       "      <td>1</td>\n",
       "    </tr>\n",
       "  </tbody>\n",
       "</table>\n",
       "</div>"
      ],
      "text/plain": [
       "                      views_before_cart\n",
       "user_id   product_id                   \n",
       "422073359 31501013                    1\n",
       "436701163 1004856                     1\n",
       "442818338 1004856                     1\n",
       "450284033 1004766                     1\n",
       "454621403 1004249                     2\n",
       "464783634 10301494                    1\n",
       "482114459 3900003                     3\n",
       "          3900815                     2\n",
       "          3900934                     1\n",
       "482871459 12710875                    1"
      ]
     },
     "execution_count": 167,
     "metadata": {},
     "output_type": "execute_result"
    }
   ],
   "source": [
    "views_before_cart[1].head(10)"
   ]
  },
  {
   "cell_type": "code",
   "execution_count": 14,
   "metadata": {},
   "outputs": [],
   "source": [
    "def avg_views_before_cart(views_before_cart_datasets):\n",
    "    for d in views_before_cart_datasets:\n",
    "        views = [d.reset_index().drop(columns=['user_id','product_id'])]\n",
    "    tot_views = pd.concat(views)\n",
    "    return round(tot_views.mean(),2)"
   ]
  },
  {
   "cell_type": "markdown",
   "metadata": {},
   "source": [
    "In the end, we consider all the months and we calculate the average number of views:"
   ]
  },
  {
   "cell_type": "code",
   "execution_count": 16,
   "metadata": {},
   "outputs": [
    {
     "data": {
      "text/plain": [
       "1.76"
      ]
     },
     "execution_count": 16,
     "metadata": {},
     "output_type": "execute_result"
    }
   ],
   "source": [
    "avg_views_before_cart(views_before_cart)[0]"
   ]
  },
  {
   "cell_type": "markdown",
   "metadata": {},
   "source": [
    "# [RQ 1.3] What’s the probability that products added once to the cart are effectively bought?\n",
    "\n",
    "We want to know the ratio between the number of times products has been bought on the number of times it has been added to the cart.<br>\n"
   ]
  },
  {
   "cell_type": "code",
   "execution_count": 170,
   "metadata": {},
   "outputs": [],
   "source": [
    "frames = [pd.read_csv(file,usecols=[\"event_type\",\"product_id\"],index_col='event_type') for file in filenames]"
   ]
  },
  {
   "cell_type": "code",
   "execution_count": 171,
   "metadata": {},
   "outputs": [],
   "source": [
    "frames = [f[f.index.isin(['purchase','cart'])] for f in frames] "
   ]
  },
  {
   "cell_type": "markdown",
   "metadata": {},
   "source": [
    "We see the products for October dataset as example:"
   ]
  },
  {
   "cell_type": "code",
   "execution_count": 172,
   "metadata": {},
   "outputs": [
    {
     "data": {
      "text/html": [
       "<div>\n",
       "<style scoped>\n",
       "    .dataframe tbody tr th:only-of-type {\n",
       "        vertical-align: middle;\n",
       "    }\n",
       "\n",
       "    .dataframe tbody tr th {\n",
       "        vertical-align: top;\n",
       "    }\n",
       "\n",
       "    .dataframe thead th {\n",
       "        text-align: right;\n",
       "    }\n",
       "</style>\n",
       "<table border=\"1\" class=\"dataframe\">\n",
       "  <thead>\n",
       "    <tr style=\"text-align: right;\">\n",
       "      <th></th>\n",
       "      <th>product_id</th>\n",
       "    </tr>\n",
       "    <tr>\n",
       "      <th>event_type</th>\n",
       "      <th></th>\n",
       "    </tr>\n",
       "  </thead>\n",
       "  <tbody>\n",
       "    <tr>\n",
       "      <th>purchase</th>\n",
       "      <td>1004856</td>\n",
       "    </tr>\n",
       "    <tr>\n",
       "      <th>purchase</th>\n",
       "      <td>1002532</td>\n",
       "    </tr>\n",
       "    <tr>\n",
       "      <th>cart</th>\n",
       "      <td>5100816</td>\n",
       "    </tr>\n",
       "    <tr>\n",
       "      <th>purchase</th>\n",
       "      <td>5100816</td>\n",
       "    </tr>\n",
       "    <tr>\n",
       "      <th>purchase</th>\n",
       "      <td>13800054</td>\n",
       "    </tr>\n",
       "    <tr>\n",
       "      <th>...</th>\n",
       "      <td>...</td>\n",
       "    </tr>\n",
       "    <tr>\n",
       "      <th>purchase</th>\n",
       "      <td>47500017</td>\n",
       "    </tr>\n",
       "    <tr>\n",
       "      <th>purchase</th>\n",
       "      <td>1003306</td>\n",
       "    </tr>\n",
       "    <tr>\n",
       "      <th>cart</th>\n",
       "      <td>1004240</td>\n",
       "    </tr>\n",
       "    <tr>\n",
       "      <th>purchase</th>\n",
       "      <td>1004240</td>\n",
       "    </tr>\n",
       "    <tr>\n",
       "      <th>purchase</th>\n",
       "      <td>4804056</td>\n",
       "    </tr>\n",
       "  </tbody>\n",
       "</table>\n",
       "<p>1669365 rows × 1 columns</p>\n",
       "</div>"
      ],
      "text/plain": [
       "            product_id\n",
       "event_type            \n",
       "purchase       1004856\n",
       "purchase       1002532\n",
       "cart           5100816\n",
       "purchase       5100816\n",
       "purchase      13800054\n",
       "...                ...\n",
       "purchase      47500017\n",
       "purchase       1003306\n",
       "cart           1004240\n",
       "purchase       1004240\n",
       "purchase       4804056\n",
       "\n",
       "[1669365 rows x 1 columns]"
      ]
     },
     "execution_count": 172,
     "metadata": {},
     "output_type": "execute_result"
    }
   ],
   "source": [
    "frames[0]"
   ]
  },
  {
   "cell_type": "code",
   "execution_count": 173,
   "metadata": {},
   "outputs": [],
   "source": [
    "def only_cart_product(frames):\n",
    "    new_frames = []\n",
    "    for f in frames:\n",
    "        cart_products = f[f.index=='cart']['product_id'] #products that have been added to cart \n",
    "        f[f.product_id.isin(cart_products)]\n",
    "        new_frames.append(f)\n",
    "    return new_frames"
   ]
  },
  {
   "cell_type": "markdown",
   "metadata": {},
   "source": [
    "For answer, we first get all and only the products that have been added to the cart.\n",
    "\n",
    "Then we count how many times they are been added to cart and how many times they are been bought.\n",
    "\n",
    "Finally, we see the ratio between them."
   ]
  },
  {
   "cell_type": "code",
   "execution_count": 174,
   "metadata": {},
   "outputs": [],
   "source": [
    "frames = only_cart_product(frames)"
   ]
  },
  {
   "cell_type": "code",
   "execution_count": 175,
   "metadata": {},
   "outputs": [],
   "source": [
    "all_months = pd.concat(frames)"
   ]
  },
  {
   "cell_type": "code",
   "execution_count": 176,
   "metadata": {},
   "outputs": [
    {
     "data": {
      "text/plain": [
       "0.3583133528439244"
      ]
     },
     "execution_count": 176,
     "metadata": {},
     "output_type": "execute_result"
    }
   ],
   "source": [
    "(all_months.index == 'purchase').sum() / (all_months.index == 'cart').sum()"
   ]
  },
  {
   "cell_type": "markdown",
   "metadata": {},
   "source": [
    "# [RQ 1.4] What’s the average time an item stays in the cart before being removed?\n",
    "\n",
    "We measure, for each product, the time it stays in a cart (of a specific user).<br>\n",
    "For do this, we calculate the time interval between when a product is added to the cart and when it is bought.<br>\n",
    "Then, we calculate the average time over all the products.\n",
    "\n",
    "First, we select only the columns: \n",
    "- user_id\n",
    "- event_time\n",
    "- product_id\n",
    "- event_type\n",
    "\n",
    "and the events:\n",
    "1. cart\n",
    "2. purchase"
   ]
  },
  {
   "cell_type": "code",
   "execution_count": 5,
   "metadata": {},
   "outputs": [],
   "source": [
    "dfs = [pd.read_csv(f, usecols=['user_id','event_time','product_id','event_type']) for f in filenames]"
   ]
  },
  {
   "cell_type": "code",
   "execution_count": 18,
   "metadata": {},
   "outputs": [],
   "source": [
    "def only_cart_purchase(dfs):\n",
    "    only_cart_purch_dfs = [ df[df.event_type.isin(['cart','purchase'])] for df in dfs]\n",
    "    return only_cart_purch_dfs"
   ]
  },
  {
   "cell_type": "code",
   "execution_count": 19,
   "metadata": {},
   "outputs": [],
   "source": [
    "cart_purchase_dfs = only_cart_purchase(dfs)"
   ]
  },
  {
   "cell_type": "code",
   "execution_count": 20,
   "metadata": {},
   "outputs": [],
   "source": [
    "def time_btw_purchase_cart(framelist):\n",
    "    delta = []\n",
    "    for df in framelist:\n",
    "        for key, frame in df.groupby(['user_id','product_id']):\n",
    "            for i in range(1, len(frame),2):        \n",
    "                if ((frame['event_type'].iloc[i] == 'purchase') and (frame['event_type'].iloc[i-1] == 'cart')):\n",
    "                    delta.append(pd.to_datetime(frame['event_time'].iloc[i])  - pd.to_datetime(frame['event_time'].iloc[i-1]))\n",
    "    return delta\n",
    "    "
   ]
  },
  {
   "cell_type": "code",
   "execution_count": 21,
   "metadata": {},
   "outputs": [],
   "source": [
    "time_delta = time_btw_purchase_cart(cart_purchase_dfs)"
   ]
  },
  {
   "cell_type": "code",
   "execution_count": 22,
   "metadata": {},
   "outputs": [],
   "source": [
    "mean_time = sum(time_delta, timedelta()) / len(time_delta)"
   ]
  },
  {
   "cell_type": "code",
   "execution_count": 23,
   "metadata": {},
   "outputs": [
    {
     "data": {
      "text/plain": [
       "Timedelta('0 days 00:14:17.659231')"
      ]
     },
     "execution_count": 23,
     "metadata": {},
     "output_type": "execute_result"
    }
   ],
   "source": [
    "mean_time"
   ]
  },
  {
   "cell_type": "code",
   "execution_count": 24,
   "metadata": {},
   "outputs": [
    {
     "name": "stdout",
     "output_type": "stream",
     "text": [
      "14:17 minutes\n"
     ]
    }
   ],
   "source": [
    "minutes = mean_time.seconds//60\n",
    "seconds = mean_time.seconds - minutes*60\n",
    "print(\"%02d:%02d\" % (minutes,seconds),'minutes')"
   ]
  },
  {
   "cell_type": "markdown",
   "metadata": {},
   "source": [
    "# [RQ1.5] How much time passes on average between the first view time and a purchase/addition to cart?"
   ]
  },
  {
   "cell_type": "markdown",
   "metadata": {},
   "source": [
    "To answer we find for each user for each product:<br>\n",
    "the time in which the user saw a specific product for the first time and the time in which he bought it.<br>\n",
    "The we calculate the difference between this two time.<br>\n",
    "Finally, we calculate the average over all time intervals."
   ]
  },
  {
   "cell_type": "code",
   "execution_count": 6,
   "metadata": {
    "scrolled": true
   },
   "outputs": [
    {
     "data": {
      "text/html": [
       "<div>\n",
       "<style scoped>\n",
       "    .dataframe tbody tr th:only-of-type {\n",
       "        vertical-align: middle;\n",
       "    }\n",
       "\n",
       "    .dataframe tbody tr th {\n",
       "        vertical-align: top;\n",
       "    }\n",
       "\n",
       "    .dataframe thead th {\n",
       "        text-align: right;\n",
       "    }\n",
       "</style>\n",
       "<table border=\"1\" class=\"dataframe\">\n",
       "  <thead>\n",
       "    <tr style=\"text-align: right;\">\n",
       "      <th></th>\n",
       "      <th>event_time</th>\n",
       "      <th>event_type</th>\n",
       "      <th>product_id</th>\n",
       "      <th>user_id</th>\n",
       "    </tr>\n",
       "  </thead>\n",
       "  <tbody>\n",
       "    <tr>\n",
       "      <th>0</th>\n",
       "      <td>2019-10-01 00:00:00 UTC</td>\n",
       "      <td>view</td>\n",
       "      <td>44600062</td>\n",
       "      <td>541312140</td>\n",
       "    </tr>\n",
       "    <tr>\n",
       "      <th>1</th>\n",
       "      <td>2019-10-01 00:00:00 UTC</td>\n",
       "      <td>view</td>\n",
       "      <td>3900821</td>\n",
       "      <td>554748717</td>\n",
       "    </tr>\n",
       "    <tr>\n",
       "      <th>2</th>\n",
       "      <td>2019-10-01 00:00:01 UTC</td>\n",
       "      <td>view</td>\n",
       "      <td>17200506</td>\n",
       "      <td>519107250</td>\n",
       "    </tr>\n",
       "    <tr>\n",
       "      <th>3</th>\n",
       "      <td>2019-10-01 00:00:01 UTC</td>\n",
       "      <td>view</td>\n",
       "      <td>1307067</td>\n",
       "      <td>550050854</td>\n",
       "    </tr>\n",
       "    <tr>\n",
       "      <th>4</th>\n",
       "      <td>2019-10-01 00:00:04 UTC</td>\n",
       "      <td>view</td>\n",
       "      <td>1004237</td>\n",
       "      <td>535871217</td>\n",
       "    </tr>\n",
       "  </tbody>\n",
       "</table>\n",
       "</div>"
      ],
      "text/plain": [
       "                event_time event_type  product_id    user_id\n",
       "0  2019-10-01 00:00:00 UTC       view    44600062  541312140\n",
       "1  2019-10-01 00:00:00 UTC       view     3900821  554748717\n",
       "2  2019-10-01 00:00:01 UTC       view    17200506  519107250\n",
       "3  2019-10-01 00:00:01 UTC       view     1307067  550050854\n",
       "4  2019-10-01 00:00:04 UTC       view     1004237  535871217"
      ]
     },
     "execution_count": 6,
     "metadata": {},
     "output_type": "execute_result"
    }
   ],
   "source": [
    "df = dfs[0]\n",
    "df.head()"
   ]
  },
  {
   "cell_type": "markdown",
   "metadata": {},
   "source": [
    "To do this, first we group our data based on the user, the product and the type of event,<br>\n",
    "where for each user and product, the first group collects the views, the second group collects the other types of events (cart or purchase).<br>\n",
    "Since we are interested in the average measure of user behavior, for each pair user-product, we only look at the first time the user view the product and the relative first time he bought it (or added to cart), ignoring the events in which a user re-acquires the same product.<br>\n",
    "Let's have a look below for the user 555480250 as example, we see that some products were simply displayed while the product 3700777 was viewed and added to the cart, so we calculate the difference between these two events."
   ]
  },
  {
   "cell_type": "code",
   "execution_count": 88,
   "metadata": {},
   "outputs": [
    {
     "data": {
      "text/html": [
       "<div>\n",
       "<style scoped>\n",
       "    .dataframe tbody tr th:only-of-type {\n",
       "        vertical-align: middle;\n",
       "    }\n",
       "\n",
       "    .dataframe tbody tr th {\n",
       "        vertical-align: top;\n",
       "    }\n",
       "\n",
       "    .dataframe thead th {\n",
       "        text-align: right;\n",
       "    }\n",
       "</style>\n",
       "<table border=\"1\" class=\"dataframe\">\n",
       "  <thead>\n",
       "    <tr style=\"text-align: right;\">\n",
       "      <th></th>\n",
       "      <th></th>\n",
       "      <th></th>\n",
       "      <th>event_time</th>\n",
       "    </tr>\n",
       "    <tr>\n",
       "      <th>user_id</th>\n",
       "      <th>product_id</th>\n",
       "      <th>event_type</th>\n",
       "      <th></th>\n",
       "    </tr>\n",
       "  </thead>\n",
       "  <tbody>\n",
       "    <tr>\n",
       "      <th rowspan=\"5\" valign=\"top\">555480250</th>\n",
       "      <th>3700778</th>\n",
       "      <th>view</th>\n",
       "      <td>2019-10-01 04:13:04 UTC</td>\n",
       "    </tr>\n",
       "    <tr>\n",
       "      <th>3700787</th>\n",
       "      <th>view</th>\n",
       "      <td>2019-10-01 04:14:35 UTC</td>\n",
       "    </tr>\n",
       "    <tr>\n",
       "      <th>3700829</th>\n",
       "      <th>view</th>\n",
       "      <td>2019-10-01 04:17:23 UTC</td>\n",
       "    </tr>\n",
       "    <tr>\n",
       "      <th rowspan=\"2\" valign=\"top\">3700777</th>\n",
       "      <th>view</th>\n",
       "      <td>2019-10-01 04:28:18 UTC</td>\n",
       "    </tr>\n",
       "    <tr>\n",
       "      <th>cart</th>\n",
       "      <td>2019-10-01 04:28:27 UTC</td>\n",
       "    </tr>\n",
       "  </tbody>\n",
       "</table>\n",
       "</div>"
      ],
      "text/plain": [
       "                                              event_time\n",
       "user_id   product_id event_type                         \n",
       "555480250 3700778    view        2019-10-01 04:13:04 UTC\n",
       "          3700787    view        2019-10-01 04:14:35 UTC\n",
       "          3700829    view        2019-10-01 04:17:23 UTC\n",
       "          3700777    view        2019-10-01 04:28:18 UTC\n",
       "                     cart        2019-10-01 04:28:27 UTC"
      ]
     },
     "execution_count": 88,
     "metadata": {},
     "output_type": "execute_result"
    }
   ],
   "source": [
    "df[df.user_id==555480250].groupby(['user_id','product_id','event_type'],sort=False).first()\n"
   ]
  },
  {
   "cell_type": "markdown",
   "metadata": {},
   "source": [
    "Then we locate the cart event (or purchase event) and we associate with its view:"
   ]
  },
  {
   "cell_type": "code",
   "execution_count": 91,
   "metadata": {},
   "outputs": [
    {
     "data": {
      "text/html": [
       "<div>\n",
       "<style scoped>\n",
       "    .dataframe tbody tr th:only-of-type {\n",
       "        vertical-align: middle;\n",
       "    }\n",
       "\n",
       "    .dataframe tbody tr th {\n",
       "        vertical-align: top;\n",
       "    }\n",
       "\n",
       "    .dataframe thead th {\n",
       "        text-align: right;\n",
       "    }\n",
       "</style>\n",
       "<table border=\"1\" class=\"dataframe\">\n",
       "  <thead>\n",
       "    <tr style=\"text-align: right;\">\n",
       "      <th></th>\n",
       "      <th></th>\n",
       "      <th>event_time_x</th>\n",
       "      <th>event_time_y</th>\n",
       "    </tr>\n",
       "    <tr>\n",
       "      <th>user_id</th>\n",
       "      <th>product_id</th>\n",
       "      <th></th>\n",
       "      <th></th>\n",
       "    </tr>\n",
       "  </thead>\n",
       "  <tbody>\n",
       "    <tr>\n",
       "      <th>555480250</th>\n",
       "      <th>3700777</th>\n",
       "      <td>2019-10-01 04:28:27 UTC</td>\n",
       "      <td>2019-10-01 04:28:18 UTC</td>\n",
       "    </tr>\n",
       "  </tbody>\n",
       "</table>\n",
       "</div>"
      ],
      "text/plain": [
       "                                 event_time_x             event_time_y\n",
       "user_id   product_id                                                  \n",
       "555480250 3700777     2019-10-01 04:28:27 UTC  2019-10-01 04:28:18 UTC"
      ]
     },
     "execution_count": 91,
     "metadata": {},
     "output_type": "execute_result"
    }
   ],
   "source": [
    "view = df[df.user_id==555480250].groupby(['user_id','product_id','event_type'],sort=False).first()\\\n",
    ".groupby(['user_id','product_id'],sort=False).nth(0)\n",
    "cart = df[df.user_id==555480250].groupby(['user_id','product_id','event_type'],sort=False).first()\\\n",
    ".groupby(['user_id','product_id'],sort=False).nth(1)\n",
    "view_and_cart = pd.merge(cart, view, how='left',on= ['user_id','product_id'])\n",
    "view_and_cart"
   ]
  },
  {
   "cell_type": "markdown",
   "metadata": {},
   "source": [
    "**event_time_x** is the time when the user add to cart the product.<br>\n",
    "**event_time_y** is the time when the user view to cart the product."
   ]
  },
  {
   "cell_type": "markdown",
   "metadata": {},
   "source": [
    "Finally, we compute the difference between the two event time."
   ]
  },
  {
   "cell_type": "code",
   "execution_count": 92,
   "metadata": {},
   "outputs": [
    {
     "data": {
      "text/html": [
       "<div>\n",
       "<style scoped>\n",
       "    .dataframe tbody tr th:only-of-type {\n",
       "        vertical-align: middle;\n",
       "    }\n",
       "\n",
       "    .dataframe tbody tr th {\n",
       "        vertical-align: top;\n",
       "    }\n",
       "\n",
       "    .dataframe thead th {\n",
       "        text-align: right;\n",
       "    }\n",
       "</style>\n",
       "<table border=\"1\" class=\"dataframe\">\n",
       "  <thead>\n",
       "    <tr style=\"text-align: right;\">\n",
       "      <th></th>\n",
       "      <th></th>\n",
       "      <th>event_time_x</th>\n",
       "      <th>event_time_y</th>\n",
       "      <th>delta time</th>\n",
       "    </tr>\n",
       "    <tr>\n",
       "      <th>user_id</th>\n",
       "      <th>product_id</th>\n",
       "      <th></th>\n",
       "      <th></th>\n",
       "      <th></th>\n",
       "    </tr>\n",
       "  </thead>\n",
       "  <tbody>\n",
       "    <tr>\n",
       "      <th>555480250</th>\n",
       "      <th>3700777</th>\n",
       "      <td>2019-10-01 04:28:27 UTC</td>\n",
       "      <td>2019-10-01 04:28:18 UTC</td>\n",
       "      <td>00:00:09</td>\n",
       "    </tr>\n",
       "  </tbody>\n",
       "</table>\n",
       "</div>"
      ],
      "text/plain": [
       "                                 event_time_x             event_time_y  \\\n",
       "user_id   product_id                                                     \n",
       "555480250 3700777     2019-10-01 04:28:27 UTC  2019-10-01 04:28:18 UTC   \n",
       "\n",
       "                     delta time  \n",
       "user_id   product_id             \n",
       "555480250 3700777      00:00:09  "
      ]
     },
     "execution_count": 92,
     "metadata": {},
     "output_type": "execute_result"
    }
   ],
   "source": [
    "view_and_cart['delta time'] = pd.to_datetime(view_and_cart['event_time_x']) - pd.to_datetime(view_and_cart['event_time_y'])\n",
    "view_and_cart"
   ]
  },
  {
   "cell_type": "markdown",
   "metadata": {},
   "source": [
    "Now let's do that for the entire dataset:"
   ]
  },
  {
   "cell_type": "code",
   "execution_count": 6,
   "metadata": {},
   "outputs": [],
   "source": [
    "first_events_list = [df.groupby(['user_id','product_id','event_type'],sort=False).first() for df in dfs]"
   ]
  },
  {
   "cell_type": "code",
   "execution_count": 7,
   "metadata": {},
   "outputs": [],
   "source": [
    "first_view_list = [fe.groupby(['user_id','product_id'],sort=False).nth(0) for fe in first_events_list]"
   ]
  },
  {
   "cell_type": "code",
   "execution_count": 8,
   "metadata": {},
   "outputs": [],
   "source": [
    "first_cart_list = [fc.groupby(['user_id','product_id'],sort=False).nth(1) for fc in first_events_list]"
   ]
  },
  {
   "cell_type": "code",
   "execution_count": 9,
   "metadata": {},
   "outputs": [],
   "source": [
    "time_btw_view_and_cart_list =[ pd.merge(cart, view, how='left',on= ['user_id','product_id']) \n",
    "                             for cart,view in zip(first_cart_list,first_view_list)]"
   ]
  },
  {
   "cell_type": "code",
   "execution_count": 10,
   "metadata": {},
   "outputs": [],
   "source": [
    "def add_deltatime_column(dataframe_list):\n",
    "    dataframe_result_list = []\n",
    "    for frame in dataframe_list:\n",
    "        frame['delta time'] = pd.to_datetime(frame['event_time_x']) - pd.to_datetime(frame['event_time_y'])\n",
    "        dataframe_result_list.append(frame)\n",
    "    return dataframe_result_list"
   ]
  },
  {
   "cell_type": "code",
   "execution_count": 11,
   "metadata": {},
   "outputs": [],
   "source": [
    "deltatime_dataframes = add_deltatime_column(time_btw_view_and_cart_list)"
   ]
  },
  {
   "cell_type": "markdown",
   "metadata": {},
   "source": [
    "Below we see for example the data for October.<br>\n",
    "For each user and for each product (purchased by the user) we collect the instant in which the user saw the product for the first time and the time in which he added it to the cart or bought it.<br>\n",
    "- **event_time_x** is the time of purchase (or add to cart).\n",
    "- **event_time_y** is the time of view. \n",
    "- **delta time** is the difference between them."
   ]
  },
  {
   "cell_type": "code",
   "execution_count": 14,
   "metadata": {},
   "outputs": [
    {
     "data": {
      "text/html": [
       "<div>\n",
       "<style scoped>\n",
       "    .dataframe tbody tr th:only-of-type {\n",
       "        vertical-align: middle;\n",
       "    }\n",
       "\n",
       "    .dataframe tbody tr th {\n",
       "        vertical-align: top;\n",
       "    }\n",
       "\n",
       "    .dataframe thead th {\n",
       "        text-align: right;\n",
       "    }\n",
       "</style>\n",
       "<table border=\"1\" class=\"dataframe\">\n",
       "  <thead>\n",
       "    <tr style=\"text-align: right;\">\n",
       "      <th></th>\n",
       "      <th></th>\n",
       "      <th>event_time_x</th>\n",
       "      <th>event_time_y</th>\n",
       "      <th>delta time</th>\n",
       "    </tr>\n",
       "    <tr>\n",
       "      <th>user_id</th>\n",
       "      <th>product_id</th>\n",
       "      <th></th>\n",
       "      <th></th>\n",
       "      <th></th>\n",
       "    </tr>\n",
       "  </thead>\n",
       "  <tbody>\n",
       "    <tr>\n",
       "      <th>543272936</th>\n",
       "      <th>1004856</th>\n",
       "      <td>2019-10-01 00:02:14 UTC</td>\n",
       "      <td>2019-10-01 00:01:46 UTC</td>\n",
       "      <td>00:00:28</td>\n",
       "    </tr>\n",
       "    <tr>\n",
       "      <th>551377651</th>\n",
       "      <th>1002532</th>\n",
       "      <td>2019-10-01 00:04:37 UTC</td>\n",
       "      <td>2019-10-01 00:02:47 UTC</td>\n",
       "      <td>00:01:50</td>\n",
       "    </tr>\n",
       "    <tr>\n",
       "      <th>550121407</th>\n",
       "      <th>5100816</th>\n",
       "      <td>2019-10-01 00:05:14 UTC</td>\n",
       "      <td>2019-10-01 00:04:47 UTC</td>\n",
       "      <td>00:00:27</td>\n",
       "    </tr>\n",
       "    <tr>\n",
       "      <th>514591159</th>\n",
       "      <th>5100816</th>\n",
       "      <td>2019-10-01 00:06:02 UTC</td>\n",
       "      <td>2019-10-01 00:04:02 UTC</td>\n",
       "      <td>00:02:00</td>\n",
       "    </tr>\n",
       "    <tr>\n",
       "      <th>555332717</th>\n",
       "      <th>13800054</th>\n",
       "      <td>2019-10-01 00:07:07 UTC</td>\n",
       "      <td>2019-10-01 00:06:00 UTC</td>\n",
       "      <td>00:01:07</td>\n",
       "    </tr>\n",
       "  </tbody>\n",
       "</table>\n",
       "</div>"
      ],
      "text/plain": [
       "                                 event_time_x             event_time_y  \\\n",
       "user_id   product_id                                                     \n",
       "543272936 1004856     2019-10-01 00:02:14 UTC  2019-10-01 00:01:46 UTC   \n",
       "551377651 1002532     2019-10-01 00:04:37 UTC  2019-10-01 00:02:47 UTC   \n",
       "550121407 5100816     2019-10-01 00:05:14 UTC  2019-10-01 00:04:47 UTC   \n",
       "514591159 5100816     2019-10-01 00:06:02 UTC  2019-10-01 00:04:02 UTC   \n",
       "555332717 13800054    2019-10-01 00:07:07 UTC  2019-10-01 00:06:00 UTC   \n",
       "\n",
       "                     delta time  \n",
       "user_id   product_id             \n",
       "543272936 1004856      00:00:28  \n",
       "551377651 1002532      00:01:50  \n",
       "550121407 5100816      00:00:27  \n",
       "514591159 5100816      00:02:00  \n",
       "555332717 13800054     00:01:07  "
      ]
     },
     "execution_count": 14,
     "metadata": {},
     "output_type": "execute_result"
    }
   ],
   "source": [
    "deltatime_dataframes[0].head()"
   ]
  },
  {
   "cell_type": "code",
   "execution_count": 12,
   "metadata": {},
   "outputs": [],
   "source": [
    "def calculate_mean_deltatime(dataframe_list):\n",
    "    all_months_frame = pd.concat(dataframe_list)\n",
    "    return all_months_frame['delta time'].mean()"
   ]
  },
  {
   "cell_type": "markdown",
   "metadata": {},
   "source": [
    "Now, we calculate the mean value of all the **delta time** values:"
   ]
  },
  {
   "cell_type": "code",
   "execution_count": 13,
   "metadata": {},
   "outputs": [
    {
     "data": {
      "text/plain": [
       "Timedelta('0 days 20:48:00.105892')"
      ]
     },
     "execution_count": 13,
     "metadata": {},
     "output_type": "execute_result"
    }
   ],
   "source": [
    "calculate_mean_deltatime(deltatime_dataframes)"
   ]
  },
  {
   "cell_type": "markdown",
   "metadata": {},
   "source": [
    "We see a value of 20 hours and 48 minutes.\n",
    "\n",
    "It may seem a quite high value, but let's take a look at October and its largest **delta time** value. "
   ]
  },
  {
   "cell_type": "code",
   "execution_count": 24,
   "metadata": {},
   "outputs": [
    {
     "data": {
      "text/html": [
       "<div>\n",
       "<style scoped>\n",
       "    .dataframe tbody tr th:only-of-type {\n",
       "        vertical-align: middle;\n",
       "    }\n",
       "\n",
       "    .dataframe tbody tr th {\n",
       "        vertical-align: top;\n",
       "    }\n",
       "\n",
       "    .dataframe thead th {\n",
       "        text-align: right;\n",
       "    }\n",
       "</style>\n",
       "<table border=\"1\" class=\"dataframe\">\n",
       "  <thead>\n",
       "    <tr style=\"text-align: right;\">\n",
       "      <th></th>\n",
       "      <th></th>\n",
       "      <th>event_time_x</th>\n",
       "      <th>event_time_y</th>\n",
       "      <th>delta time</th>\n",
       "    </tr>\n",
       "    <tr>\n",
       "      <th>user_id</th>\n",
       "      <th>product_id</th>\n",
       "      <th></th>\n",
       "      <th></th>\n",
       "      <th></th>\n",
       "    </tr>\n",
       "  </thead>\n",
       "  <tbody>\n",
       "    <tr>\n",
       "      <th>552651881</th>\n",
       "      <th>1004250</th>\n",
       "      <td>2019-10-31 21:03:01 UTC</td>\n",
       "      <td>2019-10-01 06:32:54 UTC</td>\n",
       "      <td>30 days 14:30:07</td>\n",
       "    </tr>\n",
       "  </tbody>\n",
       "</table>\n",
       "</div>"
      ],
      "text/plain": [
       "                                 event_time_x             event_time_y  \\\n",
       "user_id   product_id                                                     \n",
       "552651881 1004250     2019-10-31 21:03:01 UTC  2019-10-01 06:32:54 UTC   \n",
       "\n",
       "                           delta time  \n",
       "user_id   product_id                   \n",
       "552651881 1004250    30 days 14:30:07  "
      ]
     },
     "execution_count": 24,
     "metadata": {},
     "output_type": "execute_result"
    }
   ],
   "source": [
    "deltatime_dataframes[0].nlargest(1,'delta time')"
   ]
  },
  {
   "cell_type": "markdown",
   "metadata": {},
   "source": [
    "Now we check the **user** and **product** found in the original dataframe and see how actually 30 days have passed between the first time the user saw the product and the first action (between cart or purchase)."
   ]
  },
  {
   "cell_type": "code",
   "execution_count": 17,
   "metadata": {},
   "outputs": [],
   "source": [
    "oct_frame = dfs[0]"
   ]
  },
  {
   "cell_type": "code",
   "execution_count": 23,
   "metadata": {},
   "outputs": [
    {
     "data": {
      "text/html": [
       "<div>\n",
       "<style scoped>\n",
       "    .dataframe tbody tr th:only-of-type {\n",
       "        vertical-align: middle;\n",
       "    }\n",
       "\n",
       "    .dataframe tbody tr th {\n",
       "        vertical-align: top;\n",
       "    }\n",
       "\n",
       "    .dataframe thead th {\n",
       "        text-align: right;\n",
       "    }\n",
       "</style>\n",
       "<table border=\"1\" class=\"dataframe\">\n",
       "  <thead>\n",
       "    <tr style=\"text-align: right;\">\n",
       "      <th></th>\n",
       "      <th>event_time</th>\n",
       "      <th>event_type</th>\n",
       "      <th>product_id</th>\n",
       "      <th>user_id</th>\n",
       "    </tr>\n",
       "  </thead>\n",
       "  <tbody>\n",
       "    <tr>\n",
       "      <th>228902</th>\n",
       "      <td>2019-10-01 06:32:54 UTC</td>\n",
       "      <td>view</td>\n",
       "      <td>1004250</td>\n",
       "      <td>552651881</td>\n",
       "    </tr>\n",
       "    <tr>\n",
       "      <th>229056</th>\n",
       "      <td>2019-10-01 06:33:04 UTC</td>\n",
       "      <td>view</td>\n",
       "      <td>1004250</td>\n",
       "      <td>552651881</td>\n",
       "    </tr>\n",
       "    <tr>\n",
       "      <th>42421059</th>\n",
       "      <td>2019-10-31 21:02:54 UTC</td>\n",
       "      <td>view</td>\n",
       "      <td>1004250</td>\n",
       "      <td>552651881</td>\n",
       "    </tr>\n",
       "    <tr>\n",
       "      <th>42421095</th>\n",
       "      <td>2019-10-31 21:03:01 UTC</td>\n",
       "      <td>cart</td>\n",
       "      <td>1004250</td>\n",
       "      <td>552651881</td>\n",
       "    </tr>\n",
       "    <tr>\n",
       "      <th>42421261</th>\n",
       "      <td>2019-10-31 21:03:33 UTC</td>\n",
       "      <td>purchase</td>\n",
       "      <td>1004250</td>\n",
       "      <td>552651881</td>\n",
       "    </tr>\n",
       "    <tr>\n",
       "      <th>42421813</th>\n",
       "      <td>2019-10-31 21:05:24 UTC</td>\n",
       "      <td>view</td>\n",
       "      <td>1004250</td>\n",
       "      <td>552651881</td>\n",
       "    </tr>\n",
       "    <tr>\n",
       "      <th>42421953</th>\n",
       "      <td>2019-10-31 21:05:58 UTC</td>\n",
       "      <td>view</td>\n",
       "      <td>1004250</td>\n",
       "      <td>552651881</td>\n",
       "    </tr>\n",
       "  </tbody>\n",
       "</table>\n",
       "</div>"
      ],
      "text/plain": [
       "                       event_time event_type  product_id    user_id\n",
       "228902    2019-10-01 06:32:54 UTC       view     1004250  552651881\n",
       "229056    2019-10-01 06:33:04 UTC       view     1004250  552651881\n",
       "42421059  2019-10-31 21:02:54 UTC       view     1004250  552651881\n",
       "42421095  2019-10-31 21:03:01 UTC       cart     1004250  552651881\n",
       "42421261  2019-10-31 21:03:33 UTC   purchase     1004250  552651881\n",
       "42421813  2019-10-31 21:05:24 UTC       view     1004250  552651881\n",
       "42421953  2019-10-31 21:05:58 UTC       view     1004250  552651881"
      ]
     },
     "execution_count": 23,
     "metadata": {},
     "output_type": "execute_result"
    }
   ],
   "source": [
    "oct_frame[(oct_frame['user_id']==552651881) & (oct_frame['product_id']== 1004250)]"
   ]
  },
  {
   "cell_type": "markdown",
   "metadata": {},
   "source": [
    "------------------------------------------------------"
   ]
  },
  {
   "cell_type": "code",
   "execution_count": null,
   "metadata": {},
   "outputs": [],
   "source": []
  },
  {
   "cell_type": "markdown",
   "metadata": {},
   "source": [
    "-------------------------------------------------------"
   ]
  },
  {
   "cell_type": "markdown",
   "metadata": {},
   "source": [
    "# [RQ3] For each category, what’s the brand whose prices are higher on average? "
   ]
  },
  {
   "cell_type": "markdown",
   "metadata": {},
   "source": [
    "#### Write a function that asks the user a category in input and returns a plot indicating the average price of the products sold by the brand."
   ]
  },
  {
   "cell_type": "markdown",
   "metadata": {},
   "source": [
    "For this answer we consider as **category** the name before the . in the category code. \n",
    "\n",
    "So, first of all we clean up our data, dropping all the _na_ in the **category_code** and **brand** columns.\n",
    "\n",
    "Then, we select only the sold products.\n",
    "\n",
    "Finally we wrote a function that accepts as input the name of a **category** such as _accessories, electronics, furniture_ and plots the average price of the most expensive brands, i.e. the brands with the highest average price of the products sold in the year, sorted by the average price.\n",
    "\n",
    "Below, as example, we see the average prices of brands belonging to the category *electronics*."
   ]
  },
  {
   "cell_type": "code",
   "execution_count": 170,
   "metadata": {},
   "outputs": [],
   "source": [
    "dataframes = [pd.read_csv(file,usecols=['category_code','brand','price','event_type'], nrows=100000) for file in filenames]"
   ]
  },
  {
   "cell_type": "code",
   "execution_count": 171,
   "metadata": {},
   "outputs": [],
   "source": [
    "salesframes = [df[df.event_type=='purchase'][['category_code','brand','price']].dropna() for df in dataframes]"
   ]
  },
  {
   "cell_type": "code",
   "execution_count": 172,
   "metadata": {},
   "outputs": [],
   "source": [
    "saleframes = [df.assign(category=(df['category_code'].apply(lambda x: x.split('.')[0])))[['category','brand','price']] for df in salesframes]"
   ]
  },
  {
   "cell_type": "code",
   "execution_count": 173,
   "metadata": {},
   "outputs": [],
   "source": [
    "all_months_frame = pd.concat(saleframes)       "
   ]
  },
  {
   "cell_type": "markdown",
   "metadata": {},
   "source": [
    "Below we see the original dataset structure, with the **category_code** esxpressed as *category.subcategory*:"
   ]
  },
  {
   "cell_type": "code",
   "execution_count": 174,
   "metadata": {},
   "outputs": [
    {
     "data": {
      "text/html": [
       "<div>\n",
       "<style scoped>\n",
       "    .dataframe tbody tr th:only-of-type {\n",
       "        vertical-align: middle;\n",
       "    }\n",
       "\n",
       "    .dataframe tbody tr th {\n",
       "        vertical-align: top;\n",
       "    }\n",
       "\n",
       "    .dataframe thead th {\n",
       "        text-align: right;\n",
       "    }\n",
       "</style>\n",
       "<table border=\"1\" class=\"dataframe\">\n",
       "  <thead>\n",
       "    <tr style=\"text-align: right;\">\n",
       "      <th></th>\n",
       "      <th>category_code</th>\n",
       "      <th>brand</th>\n",
       "      <th>price</th>\n",
       "    </tr>\n",
       "  </thead>\n",
       "  <tbody>\n",
       "    <tr>\n",
       "      <th>162</th>\n",
       "      <td>electronics.smartphone</td>\n",
       "      <td>samsung</td>\n",
       "      <td>130.76</td>\n",
       "    </tr>\n",
       "    <tr>\n",
       "      <th>308</th>\n",
       "      <td>electronics.smartphone</td>\n",
       "      <td>apple</td>\n",
       "      <td>642.69</td>\n",
       "    </tr>\n",
       "    <tr>\n",
       "      <th>442</th>\n",
       "      <td>furniture.bathroom.toilet</td>\n",
       "      <td>santeri</td>\n",
       "      <td>54.42</td>\n",
       "    </tr>\n",
       "    <tr>\n",
       "      <th>574</th>\n",
       "      <td>electronics.audio.headphone</td>\n",
       "      <td>apple</td>\n",
       "      <td>189.91</td>\n",
       "    </tr>\n",
       "    <tr>\n",
       "      <th>603</th>\n",
       "      <td>electronics.audio.headphone</td>\n",
       "      <td>apple</td>\n",
       "      <td>161.98</td>\n",
       "    </tr>\n",
       "  </tbody>\n",
       "</table>\n",
       "</div>"
      ],
      "text/plain": [
       "                   category_code    brand   price\n",
       "162       electronics.smartphone  samsung  130.76\n",
       "308       electronics.smartphone    apple  642.69\n",
       "442    furniture.bathroom.toilet  santeri   54.42\n",
       "574  electronics.audio.headphone    apple  189.91\n",
       "603  electronics.audio.headphone    apple  161.98"
      ]
     },
     "execution_count": 174,
     "metadata": {},
     "output_type": "execute_result"
    }
   ],
   "source": [
    "salesframes[0].head()"
   ]
  },
  {
   "cell_type": "markdown",
   "metadata": {},
   "source": [
    "We extract the **category** from the category code:"
   ]
  },
  {
   "cell_type": "code",
   "execution_count": 175,
   "metadata": {},
   "outputs": [
    {
     "data": {
      "text/html": [
       "<div>\n",
       "<style scoped>\n",
       "    .dataframe tbody tr th:only-of-type {\n",
       "        vertical-align: middle;\n",
       "    }\n",
       "\n",
       "    .dataframe tbody tr th {\n",
       "        vertical-align: top;\n",
       "    }\n",
       "\n",
       "    .dataframe thead th {\n",
       "        text-align: right;\n",
       "    }\n",
       "</style>\n",
       "<table border=\"1\" class=\"dataframe\">\n",
       "  <thead>\n",
       "    <tr style=\"text-align: right;\">\n",
       "      <th></th>\n",
       "      <th>category</th>\n",
       "      <th>brand</th>\n",
       "      <th>price</th>\n",
       "    </tr>\n",
       "  </thead>\n",
       "  <tbody>\n",
       "    <tr>\n",
       "      <th>162</th>\n",
       "      <td>electronics</td>\n",
       "      <td>samsung</td>\n",
       "      <td>130.76</td>\n",
       "    </tr>\n",
       "    <tr>\n",
       "      <th>308</th>\n",
       "      <td>electronics</td>\n",
       "      <td>apple</td>\n",
       "      <td>642.69</td>\n",
       "    </tr>\n",
       "    <tr>\n",
       "      <th>442</th>\n",
       "      <td>furniture</td>\n",
       "      <td>santeri</td>\n",
       "      <td>54.42</td>\n",
       "    </tr>\n",
       "    <tr>\n",
       "      <th>574</th>\n",
       "      <td>electronics</td>\n",
       "      <td>apple</td>\n",
       "      <td>189.91</td>\n",
       "    </tr>\n",
       "    <tr>\n",
       "      <th>603</th>\n",
       "      <td>electronics</td>\n",
       "      <td>apple</td>\n",
       "      <td>161.98</td>\n",
       "    </tr>\n",
       "  </tbody>\n",
       "</table>\n",
       "</div>"
      ],
      "text/plain": [
       "        category    brand   price\n",
       "162  electronics  samsung  130.76\n",
       "308  electronics    apple  642.69\n",
       "442    furniture  santeri   54.42\n",
       "574  electronics    apple  189.91\n",
       "603  electronics    apple  161.98"
      ]
     },
     "execution_count": 175,
     "metadata": {},
     "output_type": "execute_result"
    }
   ],
   "source": [
    "all_months_frame.head()"
   ]
  },
  {
   "cell_type": "code",
   "execution_count": 176,
   "metadata": {},
   "outputs": [],
   "source": [
    "def plot_brand_highest_price(category, data):\n",
    "    fig=plt.figure(figsize=(21,9))\n",
    "    plot=sns.barplot(x='brand',y='price',data= data.nlargest(20,'price'))\n",
    "    for p in plot.patches:\n",
    "        plot.annotate(format(p.get_height(), ',.0f'),\n",
    "                      (p.get_x()+p.get_width() /2.,p.get_height() ),\n",
    "                      ha = 'center',\n",
    "                      va = 'center', \n",
    "                      xytext = (0, 12), \n",
    "                      textcoords = 'offset points')\n",
    "    plt.title('Average price for each brand of the category ' + category, size=18)\n",
    "    plt.xlabel('Brands',size=12)\n",
    "    plt.ylabel('Average price  [$]',size=12)"
   ]
  },
  {
   "cell_type": "code",
   "execution_count": 177,
   "metadata": {},
   "outputs": [],
   "source": [
    "def brand_highest_price():\n",
    "    category_target = input('insert a category:')\n",
    "    target_frame = all_months_frame[all_months_frame.category == category_target]\n",
    "    if target_frame.empty:\n",
    "        print(category_target, 'not found')\n",
    "        return\n",
    "    g = target_frame.groupby('brand').agg({'price':'mean'}).reset_index()\n",
    "    plot_brand_highest_price(category_target, g)"
   ]
  },
  {
   "cell_type": "code",
   "execution_count": 178,
   "metadata": {},
   "outputs": [
    {
     "name": "stdout",
     "output_type": "stream",
     "text": [
      "insert a category:electronics\n"
     ]
    },
    {
     "data": {
      "image/png": "[encoded data removed]",
      "text/plain": [
       "<Figure size 1512x648 with 1 Axes>"
      ]
     },
     "metadata": {},
     "output_type": "display_data"
    }
   ],
   "source": [
    "brand_highest_price()"
   ]
  },
  {
   "cell_type": "markdown",
   "metadata": {},
   "source": [
    "## Find, for each category, the brand with the highest average price. Return all the results in ascending order by price"
   ]
  },
  {
   "cell_type": "code",
   "execution_count": 179,
   "metadata": {},
   "outputs": [
    {
     "data": {
      "text/html": [
       "<div>\n",
       "<style scoped>\n",
       "    .dataframe tbody tr th:only-of-type {\n",
       "        vertical-align: middle;\n",
       "    }\n",
       "\n",
       "    .dataframe tbody tr th {\n",
       "        vertical-align: top;\n",
       "    }\n",
       "\n",
       "    .dataframe thead th {\n",
       "        text-align: right;\n",
       "    }\n",
       "</style>\n",
       "<table border=\"1\" class=\"dataframe\">\n",
       "  <thead>\n",
       "    <tr style=\"text-align: right;\">\n",
       "      <th></th>\n",
       "      <th>category</th>\n",
       "      <th>brand</th>\n",
       "      <th>price</th>\n",
       "    </tr>\n",
       "  </thead>\n",
       "  <tbody>\n",
       "    <tr>\n",
       "      <th>8</th>\n",
       "      <td>furniture</td>\n",
       "      <td>sony</td>\n",
       "      <td>2265.150</td>\n",
       "    </tr>\n",
       "    <tr>\n",
       "      <th>7</th>\n",
       "      <td>electronics</td>\n",
       "      <td>garmin</td>\n",
       "      <td>1745.220</td>\n",
       "    </tr>\n",
       "    <tr>\n",
       "      <th>2</th>\n",
       "      <td>appliances</td>\n",
       "      <td>krk</td>\n",
       "      <td>1603.130</td>\n",
       "    </tr>\n",
       "    <tr>\n",
       "      <th>4</th>\n",
       "      <td>computers</td>\n",
       "      <td>apple</td>\n",
       "      <td>1352.420</td>\n",
       "    </tr>\n",
       "    <tr>\n",
       "      <th>11</th>\n",
       "      <td>sport</td>\n",
       "      <td>sportop</td>\n",
       "      <td>1171.200</td>\n",
       "    </tr>\n",
       "    <tr>\n",
       "      <th>5</th>\n",
       "      <td>construction</td>\n",
       "      <td>dji</td>\n",
       "      <td>910.960</td>\n",
       "    </tr>\n",
       "    <tr>\n",
       "      <th>1</th>\n",
       "      <td>apparel</td>\n",
       "      <td>ostamebel</td>\n",
       "      <td>765.785</td>\n",
       "    </tr>\n",
       "    <tr>\n",
       "      <th>3</th>\n",
       "      <td>auto</td>\n",
       "      <td>alkor</td>\n",
       "      <td>690.630</td>\n",
       "    </tr>\n",
       "    <tr>\n",
       "      <th>0</th>\n",
       "      <td>accessories</td>\n",
       "      <td>brw</td>\n",
       "      <td>592.290</td>\n",
       "    </tr>\n",
       "    <tr>\n",
       "      <th>9</th>\n",
       "      <td>kids</td>\n",
       "      <td>marshall</td>\n",
       "      <td>438.360</td>\n",
       "    </tr>\n",
       "    <tr>\n",
       "      <th>12</th>\n",
       "      <td>stationery</td>\n",
       "      <td>microsoft</td>\n",
       "      <td>257.380</td>\n",
       "    </tr>\n",
       "    <tr>\n",
       "      <th>10</th>\n",
       "      <td>medicine</td>\n",
       "      <td>muscletech</td>\n",
       "      <td>62.420</td>\n",
       "    </tr>\n",
       "    <tr>\n",
       "      <th>6</th>\n",
       "      <td>country_yard</td>\n",
       "      <td>sony</td>\n",
       "      <td>39.995</td>\n",
       "    </tr>\n",
       "  </tbody>\n",
       "</table>\n",
       "</div>"
      ],
      "text/plain": [
       "        category       brand     price\n",
       "8      furniture        sony  2265.150\n",
       "7    electronics      garmin  1745.220\n",
       "2     appliances         krk  1603.130\n",
       "4      computers       apple  1352.420\n",
       "11         sport     sportop  1171.200\n",
       "5   construction         dji   910.960\n",
       "1        apparel   ostamebel   765.785\n",
       "3           auto       alkor   690.630\n",
       "0    accessories         brw   592.290\n",
       "9           kids    marshall   438.360\n",
       "12    stationery   microsoft   257.380\n",
       "10      medicine  muscletech    62.420\n",
       "6   country_yard        sony    39.995"
      ]
     },
     "execution_count": 179,
     "metadata": {},
     "output_type": "execute_result"
    }
   ],
   "source": [
    "all_months_frame.groupby(['category', 'brand']).agg({'price':'mean'})['price']\\\n",
    ".groupby('category', group_keys=False)\\\n",
    ".apply(lambda x: x.sort_values(ascending=False).head(1)).reset_index().sort_values(by='price', ascending=False)"
   ]
  },
  {
   "cell_type": "markdown",
   "metadata": {},
   "source": [
    "---------------------------------------------------"
   ]
  },
  {
   "cell_type": "markdown",
   "metadata": {},
   "source": [
    "# [RQ4] How much does each brand earn per month? \n",
    "\n",
    "### Write a function that given the name of a brand in input returns, for each month, its profit. "
   ]
  },
  {
   "cell_type": "markdown",
   "metadata": {},
   "source": [
    "To find out the profits of each brand, first of all, we select only the purchases in the datasets for each month.\n",
    "\n",
    "Then, we define a function that, given the name of a brand, calculates its profits in each monthly dateset. \n",
    "\n",
    "For example, we call the fuction with the brand _Samsung._"
   ]
  },
  {
   "cell_type": "code",
   "execution_count": 26,
   "metadata": {},
   "outputs": [],
   "source": [
    "periods = {0:'October - November',1:'November - December',2:'December - January',3:'January - Febrary',\n",
    "           4:'Febrary - March',5:'March - April'}"
   ]
  },
  {
   "cell_type": "code",
   "execution_count": 5,
   "metadata": {},
   "outputs": [],
   "source": [
    "dataframes = [pd.read_csv(file,usecols=['brand', 'price','event_type']) for file in filenames]"
   ]
  },
  {
   "cell_type": "code",
   "execution_count": 6,
   "metadata": {},
   "outputs": [],
   "source": [
    "dataframes = [df.dropna() for df in dataframes]"
   ]
  },
  {
   "cell_type": "code",
   "execution_count": 7,
   "metadata": {},
   "outputs": [],
   "source": [
    "purchase_dataframe = [df[df.event_type == 'purchase'][['brand', 'price']] for df in dataframes]"
   ]
  },
  {
   "cell_type": "code",
   "execution_count": 8,
   "metadata": {},
   "outputs": [],
   "source": [
    "def profit_per_month(brand_target,dataframes):\n",
    "    profits = [df[df.brand==brand_target].price.sum() for df in dataframes]\n",
    "    return profits        "
   ]
  },
  {
   "cell_type": "code",
   "execution_count": 9,
   "metadata": {},
   "outputs": [],
   "source": [
    "def brand_profit_per_month(brand_target,dataframes):\n",
    "    profits = profit_per_month(brand_target,purchase_dataframe)\n",
    "    print('The profits for the brand: \"'+ brand_target +'\" was:')\n",
    "    print(f\"{'Month' : <12}{'Profit $' : <12}\")\n",
    "    for i in range(len(profits)):\n",
    "        print(f\"{months[i] : <12}{round(profits[i],2) : <12}\") "
   ]
  },
  {
   "cell_type": "code",
   "execution_count": 10,
   "metadata": {},
   "outputs": [
    {
     "name": "stdout",
     "output_type": "stream",
     "text": [
      "The profits for the brand: \"samsung\" was:\n",
      "Month       Profit $    \n",
      "October     46407532.61 \n",
      "November    54869880.87 \n",
      "December    71858811.05 \n",
      "January     55786627.06 \n",
      "Febrary     74269250.38 \n",
      "March       65440260.34 \n",
      "April       56791598.49 \n"
     ]
    }
   ],
   "source": [
    "brand_profit_per_month('samsung',purchase_dataframe)"
   ]
  },
  {
   "cell_type": "markdown",
   "metadata": {},
   "source": [
    "## Find the top 3 brands that have suffered the biggest losses in earnings between one month and the next"
   ]
  },
  {
   "cell_type": "markdown",
   "metadata": {},
   "source": [
    "For this purpose we find the profits of each brand in each month.\n",
    "\n",
    "In the event that a brand is not present in a montly dataset we assume a profit equal to 0 in that month.\n",
    "\n",
    "In particular, for each brand we find out its biggest losses between one month and the next and the relatives months.\n",
    "\n",
    "In the end, we select the 3 biggest losses."
   ]
  },
  {
   "cell_type": "code",
   "execution_count": 11,
   "metadata": {},
   "outputs": [],
   "source": [
    "all_brands_frames = pd.concat([df['brand'] for df in purchase_dataframe]).drop_duplicates().to_frame()"
   ]
  },
  {
   "cell_type": "code",
   "execution_count": 12,
   "metadata": {},
   "outputs": [
    {
     "data": {
      "text/html": [
       "<div>\n",
       "<style scoped>\n",
       "    .dataframe tbody tr th:only-of-type {\n",
       "        vertical-align: middle;\n",
       "    }\n",
       "\n",
       "    .dataframe tbody tr th {\n",
       "        vertical-align: top;\n",
       "    }\n",
       "\n",
       "    .dataframe thead th {\n",
       "        text-align: right;\n",
       "    }\n",
       "</style>\n",
       "<table border=\"1\" class=\"dataframe\">\n",
       "  <thead>\n",
       "    <tr style=\"text-align: right;\">\n",
       "      <th></th>\n",
       "      <th>brand</th>\n",
       "    </tr>\n",
       "  </thead>\n",
       "  <tbody>\n",
       "    <tr>\n",
       "      <th>162</th>\n",
       "      <td>samsung</td>\n",
       "    </tr>\n",
       "    <tr>\n",
       "      <th>308</th>\n",
       "      <td>apple</td>\n",
       "    </tr>\n",
       "    <tr>\n",
       "      <th>379</th>\n",
       "      <td>xiaomi</td>\n",
       "    </tr>\n",
       "    <tr>\n",
       "      <th>442</th>\n",
       "      <td>santeri</td>\n",
       "    </tr>\n",
       "    <tr>\n",
       "      <th>672</th>\n",
       "      <td>oasis</td>\n",
       "    </tr>\n",
       "  </tbody>\n",
       "</table>\n",
       "</div>"
      ],
      "text/plain": [
       "       brand\n",
       "162  samsung\n",
       "308    apple\n",
       "379   xiaomi\n",
       "442  santeri\n",
       "672    oasis"
      ]
     },
     "execution_count": 12,
     "metadata": {},
     "output_type": "execute_result"
    }
   ],
   "source": [
    "all_brands_frames.head()"
   ]
  },
  {
   "cell_type": "code",
   "execution_count": 16,
   "metadata": {},
   "outputs": [],
   "source": [
    "def max_loss(brand_name,purchase_dataframe):\n",
    "    brand_name = brand_name['brand']\n",
    "    profits = profit_per_month(brand_name,purchase_dataframe)\n",
    "    loss = []\n",
    "    for i in range((len(profits) - 1)):   \n",
    "        if (profits[i] == 0):\n",
    "            loss.append(round(((profits[i + 1] - profits[i]))*100,2))\n",
    "        else:\n",
    "            loss.append(round(((profits[i + 1] - profits[i])/profits[i])*100,2))\n",
    "    return [min(loss),loss.index(min(loss))]    "
   ]
  },
  {
   "cell_type": "code",
   "execution_count": 17,
   "metadata": {},
   "outputs": [],
   "source": [
    "all_brands_frames[['max_loss','period']] = all_brands_frames.apply(lambda x: max_loss(x,purchase_dataframe),axis=1, result_type='expand')"
   ]
  },
  {
   "cell_type": "markdown",
   "metadata": {},
   "source": [
    "Below we see for a portion of the brand set the largest loss of earnings (**max_loss**) compared to the previous month as a percentage, \n",
    "\n",
    " with the period to which it refers, where period 0 means November-October,period 1 Dicember-November and so on until \n",
    " \n",
    " period 5 that means April-March."
   ]
  },
  {
   "cell_type": "code",
   "execution_count": 19,
   "metadata": {},
   "outputs": [
    {
     "data": {
      "text/html": [
       "<div>\n",
       "<style scoped>\n",
       "    .dataframe tbody tr th:only-of-type {\n",
       "        vertical-align: middle;\n",
       "    }\n",
       "\n",
       "    .dataframe tbody tr th {\n",
       "        vertical-align: top;\n",
       "    }\n",
       "\n",
       "    .dataframe thead th {\n",
       "        text-align: right;\n",
       "    }\n",
       "</style>\n",
       "<table border=\"1\" class=\"dataframe\">\n",
       "  <thead>\n",
       "    <tr style=\"text-align: right;\">\n",
       "      <th></th>\n",
       "      <th>brand</th>\n",
       "      <th>max_loss</th>\n",
       "      <th>period</th>\n",
       "    </tr>\n",
       "  </thead>\n",
       "  <tbody>\n",
       "    <tr>\n",
       "      <th>162</th>\n",
       "      <td>samsung</td>\n",
       "      <td>-22.37</td>\n",
       "      <td>2.0</td>\n",
       "    </tr>\n",
       "    <tr>\n",
       "      <th>308</th>\n",
       "      <td>apple</td>\n",
       "      <td>-47.43</td>\n",
       "      <td>5.0</td>\n",
       "    </tr>\n",
       "    <tr>\n",
       "      <th>379</th>\n",
       "      <td>xiaomi</td>\n",
       "      <td>-29.05</td>\n",
       "      <td>4.0</td>\n",
       "    </tr>\n",
       "    <tr>\n",
       "      <th>442</th>\n",
       "      <td>santeri</td>\n",
       "      <td>-63.42</td>\n",
       "      <td>5.0</td>\n",
       "    </tr>\n",
       "    <tr>\n",
       "      <th>672</th>\n",
       "      <td>oasis</td>\n",
       "      <td>-57.84</td>\n",
       "      <td>2.0</td>\n",
       "    </tr>\n",
       "  </tbody>\n",
       "</table>\n",
       "</div>"
      ],
      "text/plain": [
       "       brand  max_loss  period\n",
       "162  samsung    -22.37     2.0\n",
       "308    apple    -47.43     5.0\n",
       "379   xiaomi    -29.05     4.0\n",
       "442  santeri    -63.42     5.0\n",
       "672    oasis    -57.84     2.0"
      ]
     },
     "execution_count": 19,
     "metadata": {},
     "output_type": "execute_result"
    }
   ],
   "source": [
    "all_brands_frames.head()"
   ]
  },
  {
   "cell_type": "code",
   "execution_count": 27,
   "metadata": {},
   "outputs": [],
   "source": [
    "three_big_loss = all_brands_frames.nsmallest(3,'max_loss')\n",
    "three_big_loss['period'] = three_big_loss['period'].apply(lambda x : periods[x])"
   ]
  },
  {
   "cell_type": "markdown",
   "metadata": {},
   "source": [
    "Finaly we see the 3 biggest losses and the relative periods:"
   ]
  },
  {
   "cell_type": "code",
   "execution_count": 28,
   "metadata": {},
   "outputs": [
    {
     "data": {
      "text/html": [
       "<div>\n",
       "<style scoped>\n",
       "    .dataframe tbody tr th:only-of-type {\n",
       "        vertical-align: middle;\n",
       "    }\n",
       "\n",
       "    .dataframe tbody tr th {\n",
       "        vertical-align: top;\n",
       "    }\n",
       "\n",
       "    .dataframe thead th {\n",
       "        text-align: right;\n",
       "    }\n",
       "</style>\n",
       "<table border=\"1\" class=\"dataframe\">\n",
       "  <thead>\n",
       "    <tr style=\"text-align: right;\">\n",
       "      <th></th>\n",
       "      <th>brand</th>\n",
       "      <th>max_loss</th>\n",
       "      <th>period</th>\n",
       "    </tr>\n",
       "  </thead>\n",
       "  <tbody>\n",
       "    <tr>\n",
       "      <th>2885</th>\n",
       "      <td>ersport</td>\n",
       "      <td>-100.0</td>\n",
       "      <td>March - April</td>\n",
       "    </tr>\n",
       "    <tr>\n",
       "      <th>16339</th>\n",
       "      <td>sly</td>\n",
       "      <td>-100.0</td>\n",
       "      <td>October - November</td>\n",
       "    </tr>\n",
       "    <tr>\n",
       "      <th>27078</th>\n",
       "      <td>ea</td>\n",
       "      <td>-100.0</td>\n",
       "      <td>December - January</td>\n",
       "    </tr>\n",
       "  </tbody>\n",
       "</table>\n",
       "</div>"
      ],
      "text/plain": [
       "         brand  max_loss              period\n",
       "2885   ersport    -100.0       March - April\n",
       "16339      sly    -100.0  October - November\n",
       "27078       ea    -100.0  December - January"
      ]
     },
     "execution_count": 28,
     "metadata": {},
     "output_type": "execute_result"
    }
   ],
   "source": [
    "three_big_loss"
   ]
  },
  {
   "cell_type": "markdown",
   "metadata": {},
   "source": [
    "So *ersport*, *sly* and *ea* suffered a 100% loss of earnings respectively between March and April,October and November,December and January. This means that in the second months it did not gain anything."
   ]
  },
  {
   "cell_type": "markdown",
   "metadata": {},
   "source": [
    "-----------------------------------------------------"
   ]
  },
  {
   "cell_type": "markdown",
   "metadata": {},
   "source": [
    "# [RQ5] In what part of the day is your store most visited?\n",
    "\n",
    "### We want to know which day of the week there are more visitors. \n",
    "\n",
    "For this question we will find the average number of visitors per hour for each day of the week.\n",
    "\n",
    "For \"visitor\" we look at the **user_id**, beacause in each dataset each visitor is identified by a unique user_id.\n",
    "\n",
    "We used this to get the number unique visitors in each day. \n",
    "\n",
    "Finally, starting from the absolute number of visitors per day we calculate the hourly average."
   ]
  },
  {
   "cell_type": "code",
   "execution_count": 3,
   "metadata": {},
   "outputs": [],
   "source": [
    "# Make the graphs a bit prettier, and bigger\n",
    "plt.style.use('ggplot')\n",
    "plt.rcParams['figure.figsize'] = (15, 5)"
   ]
  },
  {
   "cell_type": "code",
   "execution_count": 4,
   "metadata": {},
   "outputs": [],
   "source": [
    "#dataset used\n",
    "filenames = ['2019-Oct.csv', '2019-Nov.csv','2019-Dec.csv','2020-Jan.csv','2020-Feb.csv','2020-Mar.csv','2020-Apr.csv']"
   ]
  },
  {
   "cell_type": "code",
   "execution_count": 10,
   "metadata": {},
   "outputs": [],
   "source": [
    "day = {0: 'Monday', 1: 'Tuesday', 2: 'Wednesday', 3: 'Thursday', 4: 'Friday', 5: 'Saturday', 6: 'Sunday'}"
   ]
  },
  {
   "cell_type": "code",
   "execution_count": 5,
   "metadata": {},
   "outputs": [],
   "source": [
    "dataframes = [pd.read_csv(file,usecols=['event_time', 'user_id'],parse_dates=['event_time'],date_parser=pd.to_datetime) for file in filenames]"
   ]
  },
  {
   "cell_type": "code",
   "execution_count": 21,
   "metadata": {},
   "outputs": [],
   "source": [
    "week_frame = [df.groupby([df.event_time.dt.weekday]).user_id.nunique().reset_index(name='visitors') for df in dataframes]"
   ]
  },
  {
   "cell_type": "markdown",
   "metadata": {},
   "source": [
    "First, we find the absolute number of vistors in each day of the week, for each montly dataframe.\n",
    "\n",
    "Below we see October as example:"
   ]
  },
  {
   "cell_type": "code",
   "execution_count": 18,
   "metadata": {},
   "outputs": [
    {
     "data": {
      "text/html": [
       "<div>\n",
       "<style scoped>\n",
       "    .dataframe tbody tr th:only-of-type {\n",
       "        vertical-align: middle;\n",
       "    }\n",
       "\n",
       "    .dataframe tbody tr th {\n",
       "        vertical-align: top;\n",
       "    }\n",
       "\n",
       "    .dataframe thead th {\n",
       "        text-align: right;\n",
       "    }\n",
       "</style>\n",
       "<table border=\"1\" class=\"dataframe\">\n",
       "  <thead>\n",
       "    <tr style=\"text-align: right;\">\n",
       "      <th></th>\n",
       "      <th>event_time</th>\n",
       "      <th>visitors</th>\n",
       "    </tr>\n",
       "  </thead>\n",
       "  <tbody>\n",
       "    <tr>\n",
       "      <th>0</th>\n",
       "      <td>Monday</td>\n",
       "      <td>707787</td>\n",
       "    </tr>\n",
       "    <tr>\n",
       "      <th>1</th>\n",
       "      <td>Tuesday</td>\n",
       "      <td>889037</td>\n",
       "    </tr>\n",
       "    <tr>\n",
       "      <th>2</th>\n",
       "      <td>Wednesday</td>\n",
       "      <td>878913</td>\n",
       "    </tr>\n",
       "    <tr>\n",
       "      <th>3</th>\n",
       "      <td>Thursday</td>\n",
       "      <td>836989</td>\n",
       "    </tr>\n",
       "    <tr>\n",
       "      <th>4</th>\n",
       "      <td>Friday</td>\n",
       "      <td>762843</td>\n",
       "    </tr>\n",
       "    <tr>\n",
       "      <th>5</th>\n",
       "      <td>Saturday</td>\n",
       "      <td>713040</td>\n",
       "    </tr>\n",
       "    <tr>\n",
       "      <th>6</th>\n",
       "      <td>Sunday</td>\n",
       "      <td>737350</td>\n",
       "    </tr>\n",
       "  </tbody>\n",
       "</table>\n",
       "</div>"
      ],
      "text/plain": [
       "  event_time  visitors\n",
       "0     Monday    707787\n",
       "1    Tuesday    889037\n",
       "2  Wednesday    878913\n",
       "3   Thursday    836989\n",
       "4     Friday    762843\n",
       "5   Saturday    713040\n",
       "6     Sunday    737350"
      ]
     },
     "execution_count": 18,
     "metadata": {},
     "output_type": "execute_result"
    }
   ],
   "source": [
    "october = week_frame[0]\n",
    "october['event_time'] = october['event_time'].apply(lambda x : day[x])\n",
    "october"
   ]
  },
  {
   "cell_type": "code",
   "execution_count": 22,
   "metadata": {},
   "outputs": [],
   "source": [
    "year_frame = sum(week_frame)"
   ]
  },
  {
   "cell_type": "markdown",
   "metadata": {},
   "source": [
    "Then we sum all the months:"
   ]
  },
  {
   "cell_type": "code",
   "execution_count": 24,
   "metadata": {},
   "outputs": [
    {
     "data": {
      "text/html": [
       "<div>\n",
       "<style scoped>\n",
       "    .dataframe tbody tr th:only-of-type {\n",
       "        vertical-align: middle;\n",
       "    }\n",
       "\n",
       "    .dataframe tbody tr th {\n",
       "        vertical-align: top;\n",
       "    }\n",
       "\n",
       "    .dataframe thead th {\n",
       "        text-align: right;\n",
       "    }\n",
       "</style>\n",
       "<table border=\"1\" class=\"dataframe\">\n",
       "  <thead>\n",
       "    <tr style=\"text-align: right;\">\n",
       "      <th></th>\n",
       "      <th>event_time</th>\n",
       "      <th>visitors</th>\n",
       "    </tr>\n",
       "  </thead>\n",
       "  <tbody>\n",
       "    <tr>\n",
       "      <th>0</th>\n",
       "      <td>Monday</td>\n",
       "      <td>7439731</td>\n",
       "    </tr>\n",
       "    <tr>\n",
       "      <th>1</th>\n",
       "      <td>Tuesday</td>\n",
       "      <td>7490929</td>\n",
       "    </tr>\n",
       "    <tr>\n",
       "      <th>2</th>\n",
       "      <td>Wednesday</td>\n",
       "      <td>7527666</td>\n",
       "    </tr>\n",
       "    <tr>\n",
       "      <th>3</th>\n",
       "      <td>Thursday</td>\n",
       "      <td>7411765</td>\n",
       "    </tr>\n",
       "    <tr>\n",
       "      <th>4</th>\n",
       "      <td>Friday</td>\n",
       "      <td>7224134</td>\n",
       "    </tr>\n",
       "    <tr>\n",
       "      <th>5</th>\n",
       "      <td>Saturday</td>\n",
       "      <td>7191362</td>\n",
       "    </tr>\n",
       "    <tr>\n",
       "      <th>6</th>\n",
       "      <td>Sunday</td>\n",
       "      <td>7358128</td>\n",
       "    </tr>\n",
       "  </tbody>\n",
       "</table>\n",
       "</div>"
      ],
      "text/plain": [
       "  event_time  visitors\n",
       "0     Monday   7439731\n",
       "1    Tuesday   7490929\n",
       "2  Wednesday   7527666\n",
       "3   Thursday   7411765\n",
       "4     Friday   7224134\n",
       "5   Saturday   7191362\n",
       "6     Sunday   7358128"
      ]
     },
     "execution_count": 24,
     "metadata": {},
     "output_type": "execute_result"
    }
   ],
   "source": [
    "year_frame['event_time'] = year_frame['event_time'].apply(lambda x : day[x/7])\n",
    "year_frame"
   ]
  },
  {
   "cell_type": "code",
   "execution_count": 25,
   "metadata": {},
   "outputs": [],
   "source": [
    "year_frame['visitors'] = round(year_frame['visitors']/24)"
   ]
  },
  {
   "cell_type": "code",
   "execution_count": 29,
   "metadata": {},
   "outputs": [],
   "source": [
    "year_frame.columns = ['day of week', 'hourly average visitors']"
   ]
  },
  {
   "cell_type": "markdown",
   "metadata": {},
   "source": [
    "In the end, we compute the hourly average number of visitors:"
   ]
  },
  {
   "cell_type": "code",
   "execution_count": 30,
   "metadata": {},
   "outputs": [
    {
     "data": {
      "text/html": [
       "<div>\n",
       "<style scoped>\n",
       "    .dataframe tbody tr th:only-of-type {\n",
       "        vertical-align: middle;\n",
       "    }\n",
       "\n",
       "    .dataframe tbody tr th {\n",
       "        vertical-align: top;\n",
       "    }\n",
       "\n",
       "    .dataframe thead th {\n",
       "        text-align: right;\n",
       "    }\n",
       "</style>\n",
       "<table border=\"1\" class=\"dataframe\">\n",
       "  <thead>\n",
       "    <tr style=\"text-align: right;\">\n",
       "      <th></th>\n",
       "      <th>day of week</th>\n",
       "      <th>hourly average visitors</th>\n",
       "    </tr>\n",
       "  </thead>\n",
       "  <tbody>\n",
       "    <tr>\n",
       "      <th>0</th>\n",
       "      <td>Monday</td>\n",
       "      <td>309989.0</td>\n",
       "    </tr>\n",
       "    <tr>\n",
       "      <th>1</th>\n",
       "      <td>Tuesday</td>\n",
       "      <td>312122.0</td>\n",
       "    </tr>\n",
       "    <tr>\n",
       "      <th>2</th>\n",
       "      <td>Wednesday</td>\n",
       "      <td>313653.0</td>\n",
       "    </tr>\n",
       "    <tr>\n",
       "      <th>3</th>\n",
       "      <td>Thursday</td>\n",
       "      <td>308824.0</td>\n",
       "    </tr>\n",
       "    <tr>\n",
       "      <th>4</th>\n",
       "      <td>Friday</td>\n",
       "      <td>301006.0</td>\n",
       "    </tr>\n",
       "    <tr>\n",
       "      <th>5</th>\n",
       "      <td>Saturday</td>\n",
       "      <td>299640.0</td>\n",
       "    </tr>\n",
       "    <tr>\n",
       "      <th>6</th>\n",
       "      <td>Sunday</td>\n",
       "      <td>306589.0</td>\n",
       "    </tr>\n",
       "  </tbody>\n",
       "</table>\n",
       "</div>"
      ],
      "text/plain": [
       "  day of week  hourly average visitors\n",
       "0      Monday                 309989.0\n",
       "1     Tuesday                 312122.0\n",
       "2   Wednesday                 313653.0\n",
       "3    Thursday                 308824.0\n",
       "4      Friday                 301006.0\n",
       "5    Saturday                 299640.0\n",
       "6      Sunday                 306589.0"
      ]
     },
     "execution_count": 30,
     "metadata": {},
     "output_type": "execute_result"
    }
   ],
   "source": [
    "year_frame"
   ]
  },
  {
   "cell_type": "code",
   "execution_count": 52,
   "metadata": {},
   "outputs": [],
   "source": [
    "def plot(frame):\n",
    "    f = plt.figure()\n",
    "    plt.xticks(range(0,7),frame['day of week'])\n",
    "    plt.ylabel(\"hourly average\")\n",
    "    plt.xlabel(\"day of week\")\n",
    "    plt.title(\"Hourly average of visitors in each day of the week\")\n",
    "    plt.plot(range(0,7), frame['hourly average visitors'], '-o', markersize=10, color='crimson')\n",
    "    plt.grid(color ='lightgray', linestyle = '-.')\n",
    "    f.set_figwidth(14)\n",
    "    f.set_figheight(5)"
   ]
  },
  {
   "cell_type": "markdown",
   "metadata": {},
   "source": [
    "We see how the number of e-commerce visitors decreases over the weekend and in maximum in the in the first days of the week:"
   ]
  },
  {
   "cell_type": "code",
   "execution_count": 53,
   "metadata": {},
   "outputs": [
    {
     "data": {
      "image/png": "[encoded data removed]",
      "text/plain": [
       "<Figure size 1008x360 with 1 Axes>"
      ]
     },
     "metadata": {},
     "output_type": "display_data"
    }
   ],
   "source": [
    "plot(year_frame)"
   ]
  },
  {
   "cell_type": "markdown",
   "metadata": {},
   "source": [
    "----------------------------------------------"
   ]
  },
  {
   "cell_type": "code",
   "execution_count": null,
   "metadata": {},
   "outputs": [],
   "source": []
  }
 ],
 "metadata": {
  "kernelspec": {
   "display_name": "Python 3",
   "language": "python",
   "name": "python3"
  },
  "language_info": {
   "codemirror_mode": {
    "name": "ipython",
    "version": 3
   },
   "file_extension": ".py",
   "mimetype": "text/x-python",
   "name": "python",
   "nbconvert_exporter": "python",
   "pygments_lexer": "ipython3",
   "version": "3.8.3"
  }
 },
 "nbformat": 4,
 "nbformat_minor": 4
}
